{
 "metadata": {
  "language_info": {
   "codemirror_mode": {
    "name": "ipython",
    "version": 3
   },
   "file_extension": ".py",
   "mimetype": "text/x-python",
   "name": "python",
   "nbconvert_exporter": "python",
   "pygments_lexer": "ipython3",
   "version": "3.6.9-final"
  },
  "orig_nbformat": 2,
  "kernelspec": {
   "name": "python3",
   "display_name": "Python 3.6.9 64-bit",
   "metadata": {
    "interpreter": {
     "hash": "4cd7ab41f5fca4b9b44701077e38c5ffd31fe66a6cab21e0214b68d958d0e462"
    }
   }
  }
 },
 "nbformat": 4,
 "nbformat_minor": 2,
 "cells": [
  {
   "source": [
    "# Training Upsampled data"
   ],
   "cell_type": "markdown",
   "metadata": {}
  },
  {
   "cell_type": "code",
   "execution_count": 1,
   "metadata": {},
   "outputs": [
    {
     "output_type": "stream",
     "name": "stdout",
     "text": [
      "1 Physical GPUs, 1 Logical GPUs\n"
     ]
    }
   ],
   "source": [
    "### Package Setups\n",
    "import tensorflow as tf\n",
    "\n",
    "gpus = tf.config.experimental.list_physical_devices('GPU')\n",
    "if gpus:\n",
    "  try:\n",
    "    # Currently, memory growth needs to be the same across GPUs\n",
    "    for gpu in gpus:\n",
    "      tf.config.experimental.set_memory_growth(gpu, True)\n",
    "    logical_gpus = tf.config.experimental.list_logical_devices('GPU')\n",
    "    print(len(gpus), \"Physical GPUs,\", len(logical_gpus), \"Logical GPUs\")\n",
    "  except RuntimeError as e:\n",
    "    # Memory growth must be set before GPUs have been initialized\n",
    "    print(e)\n",
    "from tensorflow import keras\n",
    "import time\n",
    "\n",
    "from helperFunctions import *\n",
    "\n",
    "\n",
    "from tensorflow.keras.callbacks import Callback\n",
    "\n",
    "import pandas as pd\n",
    "\n",
    "import wandb\n",
    "from wandb.keras import WandbCallback\n",
    "\n",
    "#print all cell contents \n",
    "from IPython.core.interactiveshell import InteractiveShell\n",
    "InteractiveShell.ast_node_interactivity = \"all\"\n",
    "\n"
   ]
  },
  {
   "source": [
    "## Use Upsampled data\n",
    "\n",
    "We will use the upsampled data to train, which has higher % of positives (approx 80%) compared to the negative samples. And use the normal dataset for validation and then try to get the maximum precision on Validation. \n",
    "\n",
    "* For training \n",
    "    + Use all the 130 files ~ 145K samples\n",
    "    + The shuffle buffer will be filled with these 200K samples (Memory utilisation 25GB)\n",
    "* For Validation \n",
    "    + 5 files = 4K samples (~2%)\n",
    "\n",
    "\n",
    "\n",
    "\n",
    "\n",
    "\n",
    "\n",
    "\n",
    "\n"
   ],
   "cell_type": "markdown",
   "metadata": {}
  },
  {
   "cell_type": "code",
   "execution_count": 2,
   "metadata": {},
   "outputs": [
    {
     "output_type": "stream",
     "name": "stdout",
     "text": [
      "\n",
      "\n",
      "X Shape :  (115632, 128, 128, 3) Memory size is : 5420.25 Mb Y Shape:  (115632,)\n",
      "Values, counts, Avg Performance :  [0 1] [ 14323 101309] [0.1238671 0.8761329]\n",
      "\n",
      "\n",
      "X Shape :  (30122, 128, 128, 3) Memory size is : 1411.96875 Mb Y Shape:  (30122,)\n",
      "Values, counts, Avg Performance :  [0 1] [22748  7374] [0.75519554 0.24480446]\n",
      "\n",
      "\n",
      "X Shape :  (25614, 128, 128, 3) Memory size is : 1200.65625 Mb Y Shape:  (25614,)\n",
      "Values, counts, Avg Performance :  [0 1] [20349  5265] [0.79444835 0.20555165]\n"
     ]
    }
   ],
   "source": [
    "TRAIN_FILES_FOLDER = '../data/Train_Upsampled'\n",
    "VAL_FILES_FOLDER = '../data/Validation'\n",
    "TEST_FILES_FOLDER = '../data/Test'\n",
    "\n",
    "from helperFunctions import *\n",
    "\n",
    "set_x,set_y = readXYfromDisk(100,TRAIN_FILES_FOLDER)\n",
    "print('\\n\\nX Shape : ', set_x.shape, calcArrayMemorySize(set_x),'Y Shape: ',set_y.shape)\n",
    "values, counts = np.unique(set_y, axis=0, return_counts=True)\n",
    "print('Values, counts, Avg Performance : ', values,counts,counts / counts.sum())\n",
    "\n",
    "\n",
    "set_x,set_y = readXYfromDisk(10,TEST_FILES_FOLDER)\n",
    "print('\\n\\nX Shape : ', set_x.shape, calcArrayMemorySize(set_x),'Y Shape: ',set_y.shape)\n",
    "values, counts = np.unique(set_y, axis=0, return_counts=True)\n",
    "print('Values, counts, Avg Performance : ', values,counts,counts / counts.sum())\n",
    "\n",
    "\n",
    "set_x,set_y = readXYfromDisk(10,VAL_FILES_FOLDER)\n",
    "print('\\n\\nX Shape : ', set_x.shape, calcArrayMemorySize(set_x),'Y Shape: ',set_y.shape)\n",
    "values, counts = np.unique(set_y, axis=0, return_counts=True)\n",
    "print('Values, counts, Avg Performance : ', values,counts,counts / counts.sum())\n",
    "\n"
   ]
  },
  {
   "cell_type": "code",
   "execution_count": 2,
   "metadata": {},
   "outputs": [
    {
     "output_type": "execute_result",
     "data": {
      "text/plain": [
       "146459"
      ]
     },
     "metadata": {},
     "execution_count": 2
    },
    {
     "output_type": "execute_result",
     "data": {
      "text/plain": [
       "15401"
      ]
     },
     "metadata": {},
     "execution_count": 2
    }
   ],
   "source": [
    "## Data Configuation\n",
    "TRAIN_FILES_FOLDER = '../data/Train_Upsampled'\n",
    "VAL_FILES_FOLDER = '../data/Validation'\n",
    "TEST_FILES_FOLDER = '../data/Test'\n",
    "\n",
    "TRAIN_STEPS_PER_EPOCH_MULTIPLIER = 2\n",
    "VAL_STEPS_PER_EPOCH_MULTIPLIER = 2\n",
    "\n",
    "data_config = dict(INPUT_SHAPE = (128,128,3)\n",
    "\n",
    "                    ,TRAIN_FILES = 130\n",
    "                    ,TRAIN_BATCH_SIZE = 512\n",
    "\n",
    "                    ,VAL_FILES = 5\n",
    "                    ,VAL_BATCH_SIZE = 512\n",
    "\n",
    "                    ,PREFETCH = 5\n",
    ")\n",
    "\n",
    "\n",
    "data_config.update(TRAIN_SHUFFLE_BUFFER_SIZE = samplesCount(data_config['TRAIN_FILES'],TRAIN_FILES_FOLDER))\n",
    "data_config.update(TRAIN_STEPS_PER_EPOCH = round(data_config['TRAIN_SHUFFLE_BUFFER_SIZE']/data_config['TRAIN_BATCH_SIZE'])*TRAIN_STEPS_PER_EPOCH_MULTIPLIER)\n",
    "\n",
    "data_config.update(VAL_SHUFFLE_BUFFER_SIZE = samplesCount(data_config['VAL_FILES'],VAL_FILES_FOLDER))\n",
    "data_config.update(VAL_STEPS_PER_EPOCH = round(data_config['VAL_SHUFFLE_BUFFER_SIZE']/data_config['VAL_BATCH_SIZE'])*VAL_STEPS_PER_EPOCH_MULTIPLIER)\n",
    "     \n",
    "samplesCount(data_config['TRAIN_FILES'],TRAIN_FILES_FOLDER)\n",
    "samplesCount(data_config['VAL_FILES'],VAL_FILES_FOLDER)\n",
    "\n",
    "### Data Loading\n",
    "train = createIODataset(data_config['TRAIN_FILES'],TRAIN_FILES_FOLDER)\n",
    "val = createIODataset(data_config['VAL_FILES'],VAL_FILES_FOLDER)\n",
    "\n",
    "train = train.shuffle(buffer_size=data_config['TRAIN_SHUFFLE_BUFFER_SIZE'],reshuffle_each_iteration=True)\n",
    "train = train.repeat(-1)\n",
    "train = train.batch(data_config['TRAIN_BATCH_SIZE'],drop_remainder=True)\n",
    "train = train.prefetch(data_config['PREFETCH'])\n",
    "\n",
    "val = val.shuffle(buffer_size=data_config['VAL_SHUFFLE_BUFFER_SIZE'],reshuffle_each_iteration=True)\n",
    "val = val.repeat(-1)\n",
    "val = val.batch(data_config['VAL_BATCH_SIZE'],drop_remainder=True)\n",
    "val = val.prefetch(data_config['PREFETCH'])\n",
    "\n",
    "\n",
    "### Model Configuration\n",
    "model_config = dict(\n",
    "        EXPERIMENT = 'FC Baseline - Upsampled'\n",
    "      ,METRICS = [ keras.metrics.Precision(name='precision'),keras.metrics.Recall(name='recall'),keras.metrics.AUC(name='auc')]\n",
    "      ,LR = 1e-4\n",
    "      ,EPOCHS = 100\n",
    "      ,VAL_FREQUENCY = 1\n",
    ")\n",
    "\n",
    "\n",
    "\n"
   ]
  },
  {
   "cell_type": "code",
   "execution_count": 3,
   "metadata": {},
   "outputs": [
    {
     "output_type": "stream",
     "name": "stdout",
     "text": [
      "Model: \"sequential\"\n_________________________________________________________________\nLayer (type)                 Output Shape              Param #   \n=================================================================\nflatten (Flatten)            (None, 49152)             0         \n_________________________________________________________________\nrescaling (Rescaling)        (None, 49152)             0         \n_________________________________________________________________\ndense (Dense)                (None, 32)                1572896   \n_________________________________________________________________\ndense_1 (Dense)              (None, 16)                528       \n_________________________________________________________________\ndense_2 (Dense)              (None, 8)                 136       \n_________________________________________________________________\ndense_3 (Dense)              (None, 1)                 9         \n=================================================================\nTotal params: 1,573,569\nTrainable params: 1,573,569\nNon-trainable params: 0\n_________________________________________________________________\n"
     ]
    }
   ],
   "source": [
    "model_config.update(EXPERIMENT = 'FC Baseline - Upsampled')\n",
    "\n",
    "model = tf.keras.Sequential()\n",
    "model.add(tf.keras.layers.Flatten(input_shape=data_config['INPUT_SHAPE']))\n",
    "model.add(tf.keras.layers.experimental.preprocessing.Rescaling(1./255))\n",
    "\n",
    "# model.add(tf.keras.layers.Dense(32,activation='relu',kernel_initializer='glorot_normal'))\n",
    "# model.add(tf.keras.layers.Dropout(DROPOUT))\n",
    "\n",
    "for units in [32,16,8]:\n",
    "    model.add(tf.keras.layers.Dense(units,activation='relu',kernel_initializer='he_normal'))\n",
    "\n",
    "model.add(tf.keras.layers.Dense(1,activation='sigmoid'))\n",
    "\n",
    "model.summary()\n",
    "\n",
    "\n",
    "\n"
   ]
  },
  {
   "cell_type": "code",
   "execution_count": 7,
   "metadata": {},
   "outputs": [
    {
     "output_type": "stream",
     "name": "stderr",
     "text": [
      "Failed to query for notebook name, you can set it manually with the WANDB_NOTEBOOK_NAME environment variable\n",
      "\u001b[34m\u001b[1mwandb\u001b[0m: Currently logged in as: \u001b[33mamitagni\u001b[0m (use `wandb login --relogin` to force relogin)\n"
     ]
    },
    {
     "output_type": "display_data",
     "data": {
      "text/plain": "<IPython.core.display.HTML object>",
      "text/html": "\n                Tracking run with wandb version 0.10.10<br/>\n                Syncing run <strong style=\"color:#cdcd00\">FC Baseline - Upsampled</strong> to <a href=\"https://wandb.ai\" target=\"_blank\">Weights & Biases</a> <a href=\"https://docs.wandb.com/integrations/jupyter.html\" target=\"_blank\">(Documentation)</a>.<br/>\n                Project page: <a href=\"https://wandb.ai/amitagni/candlestick-CNN\" target=\"_blank\">https://wandb.ai/amitagni/candlestick-CNN</a><br/>\n                Run page: <a href=\"https://wandb.ai/amitagni/candlestick-CNN/runs/1tus7sxd\" target=\"_blank\">https://wandb.ai/amitagni/candlestick-CNN/runs/1tus7sxd</a><br/>\n                Run data is saved locally in <code>../data/wandb/run-20201117_045927-1tus7sxd</code><br/><br/>\n            "
     },
     "metadata": {}
    },
    {
     "output_type": "stream",
     "name": "stdout",
     "text": [
      "Epoch 1/100\n",
      "572/572 [==============================] - 24s 42ms/step - loss: 0.6899 - precision: 0.8754 - recall: 0.9930 - auc: 0.5012 - val_loss: 0.6721 - val_precision: 0.8723 - val_recall: 1.0000 - val_auc: 0.5000\n",
      "Epoch 2/100\n",
      "572/572 [==============================] - 23s 41ms/step - loss: 0.6618 - precision: 0.8754 - recall: 1.0000 - auc: 0.5009 - val_loss: 0.6522 - val_precision: 0.8713 - val_recall: 1.0000 - val_auc: 0.5000\n",
      "Epoch 3/100\n",
      "572/572 [==============================] - 23s 40ms/step - loss: 0.6420 - precision: 0.8754 - recall: 1.0000 - auc: 0.4998 - val_loss: 0.6330 - val_precision: 0.8718 - val_recall: 1.0000 - val_auc: 0.5000\n",
      "Epoch 4/100\n",
      "572/572 [==============================] - 23s 40ms/step - loss: 0.6230 - precision: 0.8754 - recall: 1.0000 - auc: 0.4996 - val_loss: 0.6145 - val_precision: 0.8721 - val_recall: 1.0000 - val_auc: 0.5000\n",
      "Epoch 5/100\n",
      "572/572 [==============================] - 23s 40ms/step - loss: 0.6048 - precision: 0.8754 - recall: 1.0000 - auc: 0.5003 - val_loss: 0.5970 - val_precision: 0.8718 - val_recall: 1.0000 - val_auc: 0.5000\n",
      "Epoch 6/100\n",
      "572/572 [==============================] - 23s 40ms/step - loss: 0.5874 - precision: 0.8754 - recall: 1.0000 - auc: 0.4989 - val_loss: 0.5801 - val_precision: 0.8721 - val_recall: 1.0000 - val_auc: 0.5000\n",
      "Epoch 7/100\n",
      "572/572 [==============================] - 23s 40ms/step - loss: 0.5709 - precision: 0.8754 - recall: 1.0000 - auc: 0.4998 - val_loss: 0.5640 - val_precision: 0.8726 - val_recall: 1.0000 - val_auc: 0.5000\n",
      "Epoch 8/100\n",
      "572/572 [==============================] - 23s 40ms/step - loss: 0.5551 - precision: 0.8753 - recall: 1.0000 - auc: 0.4995 - val_loss: 0.5487 - val_precision: 0.8726 - val_recall: 1.0000 - val_auc: 0.5000\n",
      "Epoch 9/100\n",
      "572/572 [==============================] - 23s 40ms/step - loss: 0.5400 - precision: 0.8755 - recall: 1.0000 - auc: 0.4997 - val_loss: 0.5346 - val_precision: 0.8719 - val_recall: 1.0000 - val_auc: 0.5000\n",
      "Epoch 10/100\n",
      "572/572 [==============================] - 23s 40ms/step - loss: 0.5258 - precision: 0.8754 - recall: 1.0000 - auc: 0.4999 - val_loss: 0.5206 - val_precision: 0.8726 - val_recall: 1.0000 - val_auc: 0.5000\n",
      "Epoch 11/100\n",
      "572/572 [==============================] - 23s 40ms/step - loss: 0.5123 - precision: 0.8754 - recall: 1.0000 - auc: 0.4994 - val_loss: 0.5078 - val_precision: 0.8722 - val_recall: 1.0000 - val_auc: 0.5000\n",
      "Epoch 12/100\n",
      "572/572 [==============================] - 23s 40ms/step - loss: 0.4996 - precision: 0.8754 - recall: 1.0000 - auc: 0.4998 - val_loss: 0.4954 - val_precision: 0.8726 - val_recall: 1.0000 - val_auc: 0.5000\n",
      "Epoch 13/100\n",
      "572/572 [==============================] - 23s 40ms/step - loss: 0.4876 - precision: 0.8754 - recall: 1.0000 - auc: 0.4998 - val_loss: 0.4844 - val_precision: 0.8719 - val_recall: 1.0000 - val_auc: 0.5000\n",
      "Epoch 14/100\n",
      "572/572 [==============================] - 23s 40ms/step - loss: 0.4764 - precision: 0.8754 - recall: 1.0000 - auc: 0.4994 - val_loss: 0.4731 - val_precision: 0.8727 - val_recall: 1.0000 - val_auc: 0.5000\n",
      "Epoch 15/100\n",
      "572/572 [==============================] - 23s 40ms/step - loss: 0.4657 - precision: 0.8755 - recall: 1.0000 - auc: 0.5002 - val_loss: 0.4631 - val_precision: 0.8726 - val_recall: 1.0000 - val_auc: 0.5000\n",
      "Epoch 16/100\n",
      "572/572 [==============================] - 23s 40ms/step - loss: 0.4559 - precision: 0.8753 - recall: 1.0000 - auc: 0.4989 - val_loss: 0.4541 - val_precision: 0.8722 - val_recall: 1.0000 - val_auc: 0.5000\n",
      "Epoch 17/100\n",
      "572/572 [==============================] - 23s 40ms/step - loss: 0.4466 - precision: 0.8755 - recall: 1.0000 - auc: 0.4996 - val_loss: 0.4462 - val_precision: 0.8713 - val_recall: 1.0000 - val_auc: 0.5000\n",
      "Epoch 18/100\n",
      "572/572 [==============================] - 23s 40ms/step - loss: 0.4381 - precision: 0.8754 - recall: 1.0000 - auc: 0.4998 - val_loss: 0.4365 - val_precision: 0.8730 - val_recall: 1.0000 - val_auc: 0.5000\n",
      "Epoch 19/100\n",
      "572/572 [==============================] - 23s 40ms/step - loss: 0.4302 - precision: 0.8754 - recall: 1.0000 - auc: 0.4996 - val_loss: 0.4289 - val_precision: 0.8732 - val_recall: 1.0000 - val_auc: 0.5000\n",
      "Epoch 20/100\n",
      "572/572 [==============================] - 23s 40ms/step - loss: 0.4229 - precision: 0.8754 - recall: 1.0000 - auc: 0.5001 - val_loss: 0.4243 - val_precision: 0.8712 - val_recall: 1.0000 - val_auc: 0.5000\n",
      "Epoch 21/100\n",
      "572/572 [==============================] - 23s 40ms/step - loss: 0.4163 - precision: 0.8754 - recall: 1.0000 - auc: 0.5011 - val_loss: 0.4162 - val_precision: 0.8728 - val_recall: 1.0000 - val_auc: 0.5000\n",
      "Epoch 22/100\n",
      "572/572 [==============================] - 23s 40ms/step - loss: 0.4102 - precision: 0.8754 - recall: 1.0000 - auc: 0.5006 - val_loss: 0.4110 - val_precision: 0.8724 - val_recall: 1.0000 - val_auc: 0.5000\n",
      "Epoch 23/100\n",
      "572/572 [==============================] - 23s 40ms/step - loss: 0.4048 - precision: 0.8753 - recall: 1.0000 - auc: 0.4995 - val_loss: 0.4063 - val_precision: 0.8722 - val_recall: 1.0000 - val_auc: 0.5000\n",
      "Epoch 24/100\n",
      "572/572 [==============================] - 23s 40ms/step - loss: 0.3997 - precision: 0.8754 - recall: 1.0000 - auc: 0.4992 - val_loss: 0.4012 - val_precision: 0.8727 - val_recall: 1.0000 - val_auc: 0.5000\n",
      "Epoch 25/100\n",
      "572/572 [==============================] - 23s 40ms/step - loss: 0.3953 - precision: 0.8754 - recall: 1.0000 - auc: 0.4993 - val_loss: 0.3982 - val_precision: 0.8719 - val_recall: 1.0000 - val_auc: 0.5000\n",
      "Epoch 26/100\n",
      "572/572 [==============================] - 23s 40ms/step - loss: 0.3915 - precision: 0.8754 - recall: 1.0000 - auc: 0.5002 - val_loss: 0.3949 - val_precision: 0.8718 - val_recall: 1.0000 - val_auc: 0.5000\n",
      "Epoch 27/100\n",
      "572/572 [==============================] - 23s 40ms/step - loss: 0.3880 - precision: 0.8754 - recall: 1.0000 - auc: 0.4989 - val_loss: 0.3916 - val_precision: 0.8721 - val_recall: 1.0000 - val_auc: 0.5000\n",
      "Epoch 28/100\n",
      "572/572 [==============================] - 23s 40ms/step - loss: 0.3851 - precision: 0.8754 - recall: 1.0000 - auc: 0.5002 - val_loss: 0.3874 - val_precision: 0.8732 - val_recall: 1.0000 - val_auc: 0.5000\n",
      "Epoch 29/100\n",
      "572/572 [==============================] - 23s 40ms/step - loss: 0.3827 - precision: 0.8754 - recall: 1.0000 - auc: 0.4995 - val_loss: 0.3857 - val_precision: 0.8729 - val_recall: 1.0000 - val_auc: 0.5000\n",
      "Epoch 30/100\n",
      "572/572 [==============================] - 22s 39ms/step - loss: 0.3806 - precision: 0.8754 - recall: 1.0000 - auc: 0.4976 - val_loss: 0.3865 - val_precision: 0.8715 - val_recall: 1.0000 - val_auc: 0.5000\n",
      "Epoch 31/100\n",
      "572/572 [==============================] - 23s 40ms/step - loss: 0.3791 - precision: 0.8754 - recall: 1.0000 - auc: 0.5004 - val_loss: 0.3838 - val_precision: 0.8723 - val_recall: 1.0000 - val_auc: 0.5000\n",
      "Epoch 32/100\n",
      "572/572 [==============================] - 23s 40ms/step - loss: 0.3778 - precision: 0.8754 - recall: 1.0000 - auc: 0.5002 - val_loss: 0.3845 - val_precision: 0.8715 - val_recall: 1.0000 - val_auc: 0.5000\n",
      "Epoch 33/100\n",
      "572/572 [==============================] - 23s 39ms/step - loss: 0.3772 - precision: 0.8753 - recall: 1.0000 - auc: 0.4999 - val_loss: 0.3844 - val_precision: 0.8712 - val_recall: 1.0000 - val_auc: 0.5000\n",
      "Epoch 34/100\n",
      "572/572 [==============================] - 23s 40ms/step - loss: 0.3766 - precision: 0.8754 - recall: 1.0000 - auc: 0.4995 - val_loss: 0.3831 - val_precision: 0.8718 - val_recall: 1.0000 - val_auc: 0.5000\n",
      "Epoch 35/100\n",
      "572/572 [==============================] - 23s 40ms/step - loss: 0.3762 - precision: 0.8754 - recall: 1.0000 - auc: 0.5000 - val_loss: 0.3832 - val_precision: 0.8717 - val_recall: 1.0000 - val_auc: 0.5000\n",
      "Epoch 36/100\n",
      "572/572 [==============================] - 23s 40ms/step - loss: 0.3758 - precision: 0.8755 - recall: 1.0000 - auc: 0.4983 - val_loss: 0.3813 - val_precision: 0.8727 - val_recall: 1.0000 - val_auc: 0.5000\n",
      "Epoch 37/100\n",
      "572/572 [==============================] - 23s 40ms/step - loss: 0.3763 - precision: 0.8753 - recall: 1.0000 - auc: 0.5000 - val_loss: 0.3827 - val_precision: 0.8719 - val_recall: 1.0000 - val_auc: 0.5000\n",
      "Epoch 38/100\n",
      "572/572 [==============================] - 23s 40ms/step - loss: 0.3759 - precision: 0.8754 - recall: 1.0000 - auc: 0.5000 - val_loss: 0.3810 - val_precision: 0.8728 - val_recall: 1.0000 - val_auc: 0.5000\n",
      "Epoch 39/100\n",
      "191/572 [=========>....................] - ETA: 15s - loss: 0.3758 - precision: 0.8755 - recall: 1.0000 - auc: 0.5000"
     ]
    },
    {
     "output_type": "error",
     "ename": "KeyboardInterrupt",
     "evalue": "",
     "traceback": [
      "\u001b[0;31m---------------------------------------------------------------------------\u001b[0m",
      "\u001b[0;31mKeyboardInterrupt\u001b[0m                         Traceback (most recent call last)",
      "\u001b[0;32m<ipython-input-7-3fef991633c1>\u001b[0m in \u001b[0;36m<module>\u001b[0;34m\u001b[0m\n\u001b[1;32m     13\u001b[0m                 \u001b[0;34m,\u001b[0m\u001b[0mvalidation_freq\u001b[0m \u001b[0;34m=\u001b[0m \u001b[0mmodel_config\u001b[0m\u001b[0;34m[\u001b[0m\u001b[0;34m'VAL_FREQUENCY'\u001b[0m\u001b[0;34m]\u001b[0m\u001b[0;34m\u001b[0m\u001b[0;34m\u001b[0m\u001b[0m\n\u001b[1;32m     14\u001b[0m                 \u001b[0;34m,\u001b[0m\u001b[0mvalidation_steps\u001b[0m \u001b[0;34m=\u001b[0m \u001b[0mdata_config\u001b[0m\u001b[0;34m[\u001b[0m\u001b[0;34m'VAL_STEPS_PER_EPOCH'\u001b[0m\u001b[0;34m]\u001b[0m\u001b[0;34m\u001b[0m\u001b[0;34m\u001b[0m\u001b[0m\n\u001b[0;32m---> 15\u001b[0;31m                 \u001b[0;34m,\u001b[0m\u001b[0mcallbacks\u001b[0m\u001b[0;34m=\u001b[0m\u001b[0;34m[\u001b[0m\u001b[0mWandbCallback\u001b[0m\u001b[0;34m(\u001b[0m\u001b[0;34m)\u001b[0m\u001b[0;34m]\u001b[0m\u001b[0;34m\u001b[0m\u001b[0;34m\u001b[0m\u001b[0m\n\u001b[0m\u001b[1;32m     16\u001b[0m                 )\n\u001b[1;32m     17\u001b[0m \u001b[0;34m\u001b[0m\u001b[0m\n",
      "\u001b[0;32m/usr/local/lib/python3.6/dist-packages/wandb/integration/keras/keras.py\u001b[0m in \u001b[0;36mnew_v2\u001b[0;34m(*args, **kwargs)\u001b[0m\n\u001b[1;32m    118\u001b[0m             \u001b[0;32mfor\u001b[0m \u001b[0mcbk\u001b[0m \u001b[0;32min\u001b[0m \u001b[0mcbks\u001b[0m\u001b[0;34m:\u001b[0m\u001b[0;34m\u001b[0m\u001b[0;34m\u001b[0m\u001b[0m\n\u001b[1;32m    119\u001b[0m                 \u001b[0mset_wandb_attrs\u001b[0m\u001b[0;34m(\u001b[0m\u001b[0mcbk\u001b[0m\u001b[0;34m,\u001b[0m \u001b[0mval_data\u001b[0m\u001b[0;34m)\u001b[0m\u001b[0;34m\u001b[0m\u001b[0;34m\u001b[0m\u001b[0m\n\u001b[0;32m--> 120\u001b[0;31m         \u001b[0;32mreturn\u001b[0m \u001b[0mold_v2\u001b[0m\u001b[0;34m(\u001b[0m\u001b[0;34m*\u001b[0m\u001b[0margs\u001b[0m\u001b[0;34m,\u001b[0m \u001b[0;34m**\u001b[0m\u001b[0mkwargs\u001b[0m\u001b[0;34m)\u001b[0m\u001b[0;34m\u001b[0m\u001b[0;34m\u001b[0m\u001b[0m\n\u001b[0m\u001b[1;32m    121\u001b[0m \u001b[0;34m\u001b[0m\u001b[0m\n\u001b[1;32m    122\u001b[0m     \u001b[0mtraining_arrays\u001b[0m\u001b[0;34m.\u001b[0m\u001b[0morig_fit_loop\u001b[0m \u001b[0;34m=\u001b[0m \u001b[0mold_arrays\u001b[0m\u001b[0;34m\u001b[0m\u001b[0;34m\u001b[0m\u001b[0m\n",
      "\u001b[0;32m/usr/local/lib/python3.6/dist-packages/tensorflow/python/keras/engine/training.py\u001b[0m in \u001b[0;36m_method_wrapper\u001b[0;34m(self, *args, **kwargs)\u001b[0m\n\u001b[1;32m    106\u001b[0m   \u001b[0;32mdef\u001b[0m \u001b[0m_method_wrapper\u001b[0m\u001b[0;34m(\u001b[0m\u001b[0mself\u001b[0m\u001b[0;34m,\u001b[0m \u001b[0;34m*\u001b[0m\u001b[0margs\u001b[0m\u001b[0;34m,\u001b[0m \u001b[0;34m**\u001b[0m\u001b[0mkwargs\u001b[0m\u001b[0;34m)\u001b[0m\u001b[0;34m:\u001b[0m\u001b[0;34m\u001b[0m\u001b[0;34m\u001b[0m\u001b[0m\n\u001b[1;32m    107\u001b[0m     \u001b[0;32mif\u001b[0m \u001b[0;32mnot\u001b[0m \u001b[0mself\u001b[0m\u001b[0;34m.\u001b[0m\u001b[0m_in_multi_worker_mode\u001b[0m\u001b[0;34m(\u001b[0m\u001b[0;34m)\u001b[0m\u001b[0;34m:\u001b[0m  \u001b[0;31m# pylint: disable=protected-access\u001b[0m\u001b[0;34m\u001b[0m\u001b[0;34m\u001b[0m\u001b[0m\n\u001b[0;32m--> 108\u001b[0;31m       \u001b[0;32mreturn\u001b[0m \u001b[0mmethod\u001b[0m\u001b[0;34m(\u001b[0m\u001b[0mself\u001b[0m\u001b[0;34m,\u001b[0m \u001b[0;34m*\u001b[0m\u001b[0margs\u001b[0m\u001b[0;34m,\u001b[0m \u001b[0;34m**\u001b[0m\u001b[0mkwargs\u001b[0m\u001b[0;34m)\u001b[0m\u001b[0;34m\u001b[0m\u001b[0;34m\u001b[0m\u001b[0m\n\u001b[0m\u001b[1;32m    109\u001b[0m \u001b[0;34m\u001b[0m\u001b[0m\n\u001b[1;32m    110\u001b[0m     \u001b[0;31m# Running inside `run_distribute_coordinator` already.\u001b[0m\u001b[0;34m\u001b[0m\u001b[0;34m\u001b[0m\u001b[0;34m\u001b[0m\u001b[0m\n",
      "\u001b[0;32m/usr/local/lib/python3.6/dist-packages/tensorflow/python/keras/engine/training.py\u001b[0m in \u001b[0;36mfit\u001b[0;34m(self, x, y, batch_size, epochs, verbose, callbacks, validation_split, validation_data, shuffle, class_weight, sample_weight, initial_epoch, steps_per_epoch, validation_steps, validation_batch_size, validation_freq, max_queue_size, workers, use_multiprocessing)\u001b[0m\n\u001b[1;32m   1096\u001b[0m                 batch_size=batch_size):\n\u001b[1;32m   1097\u001b[0m               \u001b[0mcallbacks\u001b[0m\u001b[0;34m.\u001b[0m\u001b[0mon_train_batch_begin\u001b[0m\u001b[0;34m(\u001b[0m\u001b[0mstep\u001b[0m\u001b[0;34m)\u001b[0m\u001b[0;34m\u001b[0m\u001b[0;34m\u001b[0m\u001b[0m\n\u001b[0;32m-> 1098\u001b[0;31m               \u001b[0mtmp_logs\u001b[0m \u001b[0;34m=\u001b[0m \u001b[0mtrain_function\u001b[0m\u001b[0;34m(\u001b[0m\u001b[0miterator\u001b[0m\u001b[0;34m)\u001b[0m\u001b[0;34m\u001b[0m\u001b[0;34m\u001b[0m\u001b[0m\n\u001b[0m\u001b[1;32m   1099\u001b[0m               \u001b[0;32mif\u001b[0m \u001b[0mdata_handler\u001b[0m\u001b[0;34m.\u001b[0m\u001b[0mshould_sync\u001b[0m\u001b[0;34m:\u001b[0m\u001b[0;34m\u001b[0m\u001b[0;34m\u001b[0m\u001b[0m\n\u001b[1;32m   1100\u001b[0m                 \u001b[0mcontext\u001b[0m\u001b[0;34m.\u001b[0m\u001b[0masync_wait\u001b[0m\u001b[0;34m(\u001b[0m\u001b[0;34m)\u001b[0m\u001b[0;34m\u001b[0m\u001b[0;34m\u001b[0m\u001b[0m\n",
      "\u001b[0;32m/usr/local/lib/python3.6/dist-packages/tensorflow/python/eager/def_function.py\u001b[0m in \u001b[0;36m__call__\u001b[0;34m(self, *args, **kwds)\u001b[0m\n\u001b[1;32m    778\u001b[0m       \u001b[0;32melse\u001b[0m\u001b[0;34m:\u001b[0m\u001b[0;34m\u001b[0m\u001b[0;34m\u001b[0m\u001b[0m\n\u001b[1;32m    779\u001b[0m         \u001b[0mcompiler\u001b[0m \u001b[0;34m=\u001b[0m \u001b[0;34m\"nonXla\"\u001b[0m\u001b[0;34m\u001b[0m\u001b[0;34m\u001b[0m\u001b[0m\n\u001b[0;32m--> 780\u001b[0;31m         \u001b[0mresult\u001b[0m \u001b[0;34m=\u001b[0m \u001b[0mself\u001b[0m\u001b[0;34m.\u001b[0m\u001b[0m_call\u001b[0m\u001b[0;34m(\u001b[0m\u001b[0;34m*\u001b[0m\u001b[0margs\u001b[0m\u001b[0;34m,\u001b[0m \u001b[0;34m**\u001b[0m\u001b[0mkwds\u001b[0m\u001b[0;34m)\u001b[0m\u001b[0;34m\u001b[0m\u001b[0;34m\u001b[0m\u001b[0m\n\u001b[0m\u001b[1;32m    781\u001b[0m \u001b[0;34m\u001b[0m\u001b[0m\n\u001b[1;32m    782\u001b[0m       \u001b[0mnew_tracing_count\u001b[0m \u001b[0;34m=\u001b[0m \u001b[0mself\u001b[0m\u001b[0;34m.\u001b[0m\u001b[0m_get_tracing_count\u001b[0m\u001b[0;34m(\u001b[0m\u001b[0;34m)\u001b[0m\u001b[0;34m\u001b[0m\u001b[0;34m\u001b[0m\u001b[0m\n",
      "\u001b[0;32m/usr/local/lib/python3.6/dist-packages/tensorflow/python/eager/def_function.py\u001b[0m in \u001b[0;36m_call\u001b[0;34m(self, *args, **kwds)\u001b[0m\n\u001b[1;32m    805\u001b[0m       \u001b[0;31m# In this case we have created variables on the first call, so we run the\u001b[0m\u001b[0;34m\u001b[0m\u001b[0;34m\u001b[0m\u001b[0;34m\u001b[0m\u001b[0m\n\u001b[1;32m    806\u001b[0m       \u001b[0;31m# defunned version which is guaranteed to never create variables.\u001b[0m\u001b[0;34m\u001b[0m\u001b[0;34m\u001b[0m\u001b[0;34m\u001b[0m\u001b[0m\n\u001b[0;32m--> 807\u001b[0;31m       \u001b[0;32mreturn\u001b[0m \u001b[0mself\u001b[0m\u001b[0;34m.\u001b[0m\u001b[0m_stateless_fn\u001b[0m\u001b[0;34m(\u001b[0m\u001b[0;34m*\u001b[0m\u001b[0margs\u001b[0m\u001b[0;34m,\u001b[0m \u001b[0;34m**\u001b[0m\u001b[0mkwds\u001b[0m\u001b[0;34m)\u001b[0m  \u001b[0;31m# pylint: disable=not-callable\u001b[0m\u001b[0;34m\u001b[0m\u001b[0;34m\u001b[0m\u001b[0m\n\u001b[0m\u001b[1;32m    808\u001b[0m     \u001b[0;32melif\u001b[0m \u001b[0mself\u001b[0m\u001b[0;34m.\u001b[0m\u001b[0m_stateful_fn\u001b[0m \u001b[0;32mis\u001b[0m \u001b[0;32mnot\u001b[0m \u001b[0;32mNone\u001b[0m\u001b[0;34m:\u001b[0m\u001b[0;34m\u001b[0m\u001b[0;34m\u001b[0m\u001b[0m\n\u001b[1;32m    809\u001b[0m       \u001b[0;31m# Release the lock early so that multiple threads can perform the call\u001b[0m\u001b[0;34m\u001b[0m\u001b[0;34m\u001b[0m\u001b[0;34m\u001b[0m\u001b[0m\n",
      "\u001b[0;32m/usr/local/lib/python3.6/dist-packages/tensorflow/python/eager/function.py\u001b[0m in \u001b[0;36m__call__\u001b[0;34m(self, *args, **kwargs)\u001b[0m\n\u001b[1;32m   2827\u001b[0m     \u001b[0;32mwith\u001b[0m \u001b[0mself\u001b[0m\u001b[0;34m.\u001b[0m\u001b[0m_lock\u001b[0m\u001b[0;34m:\u001b[0m\u001b[0;34m\u001b[0m\u001b[0;34m\u001b[0m\u001b[0m\n\u001b[1;32m   2828\u001b[0m       \u001b[0mgraph_function\u001b[0m\u001b[0;34m,\u001b[0m \u001b[0margs\u001b[0m\u001b[0;34m,\u001b[0m \u001b[0mkwargs\u001b[0m \u001b[0;34m=\u001b[0m \u001b[0mself\u001b[0m\u001b[0;34m.\u001b[0m\u001b[0m_maybe_define_function\u001b[0m\u001b[0;34m(\u001b[0m\u001b[0margs\u001b[0m\u001b[0;34m,\u001b[0m \u001b[0mkwargs\u001b[0m\u001b[0;34m)\u001b[0m\u001b[0;34m\u001b[0m\u001b[0;34m\u001b[0m\u001b[0m\n\u001b[0;32m-> 2829\u001b[0;31m     \u001b[0;32mreturn\u001b[0m \u001b[0mgraph_function\u001b[0m\u001b[0;34m.\u001b[0m\u001b[0m_filtered_call\u001b[0m\u001b[0;34m(\u001b[0m\u001b[0margs\u001b[0m\u001b[0;34m,\u001b[0m \u001b[0mkwargs\u001b[0m\u001b[0;34m)\u001b[0m  \u001b[0;31m# pylint: disable=protected-access\u001b[0m\u001b[0;34m\u001b[0m\u001b[0;34m\u001b[0m\u001b[0m\n\u001b[0m\u001b[1;32m   2830\u001b[0m \u001b[0;34m\u001b[0m\u001b[0m\n\u001b[1;32m   2831\u001b[0m   \u001b[0;34m@\u001b[0m\u001b[0mproperty\u001b[0m\u001b[0;34m\u001b[0m\u001b[0;34m\u001b[0m\u001b[0m\n",
      "\u001b[0;32m/usr/local/lib/python3.6/dist-packages/tensorflow/python/eager/function.py\u001b[0m in \u001b[0;36m_filtered_call\u001b[0;34m(self, args, kwargs, cancellation_manager)\u001b[0m\n\u001b[1;32m   1846\u001b[0m                            resource_variable_ops.BaseResourceVariable))],\n\u001b[1;32m   1847\u001b[0m         \u001b[0mcaptured_inputs\u001b[0m\u001b[0;34m=\u001b[0m\u001b[0mself\u001b[0m\u001b[0;34m.\u001b[0m\u001b[0mcaptured_inputs\u001b[0m\u001b[0;34m,\u001b[0m\u001b[0;34m\u001b[0m\u001b[0;34m\u001b[0m\u001b[0m\n\u001b[0;32m-> 1848\u001b[0;31m         cancellation_manager=cancellation_manager)\n\u001b[0m\u001b[1;32m   1849\u001b[0m \u001b[0;34m\u001b[0m\u001b[0m\n\u001b[1;32m   1850\u001b[0m   \u001b[0;32mdef\u001b[0m \u001b[0m_call_flat\u001b[0m\u001b[0;34m(\u001b[0m\u001b[0mself\u001b[0m\u001b[0;34m,\u001b[0m \u001b[0margs\u001b[0m\u001b[0;34m,\u001b[0m \u001b[0mcaptured_inputs\u001b[0m\u001b[0;34m,\u001b[0m \u001b[0mcancellation_manager\u001b[0m\u001b[0;34m=\u001b[0m\u001b[0;32mNone\u001b[0m\u001b[0;34m)\u001b[0m\u001b[0;34m:\u001b[0m\u001b[0;34m\u001b[0m\u001b[0;34m\u001b[0m\u001b[0m\n",
      "\u001b[0;32m/usr/local/lib/python3.6/dist-packages/tensorflow/python/eager/function.py\u001b[0m in \u001b[0;36m_call_flat\u001b[0;34m(self, args, captured_inputs, cancellation_manager)\u001b[0m\n\u001b[1;32m   1922\u001b[0m       \u001b[0;31m# No tape is watching; skip to running the function.\u001b[0m\u001b[0;34m\u001b[0m\u001b[0;34m\u001b[0m\u001b[0;34m\u001b[0m\u001b[0m\n\u001b[1;32m   1923\u001b[0m       return self._build_call_outputs(self._inference_function.call(\n\u001b[0;32m-> 1924\u001b[0;31m           ctx, args, cancellation_manager=cancellation_manager))\n\u001b[0m\u001b[1;32m   1925\u001b[0m     forward_backward = self._select_forward_and_backward_functions(\n\u001b[1;32m   1926\u001b[0m         \u001b[0margs\u001b[0m\u001b[0;34m,\u001b[0m\u001b[0;34m\u001b[0m\u001b[0;34m\u001b[0m\u001b[0m\n",
      "\u001b[0;32m/usr/local/lib/python3.6/dist-packages/tensorflow/python/eager/function.py\u001b[0m in \u001b[0;36mcall\u001b[0;34m(self, ctx, args, cancellation_manager)\u001b[0m\n\u001b[1;32m    548\u001b[0m               \u001b[0minputs\u001b[0m\u001b[0;34m=\u001b[0m\u001b[0margs\u001b[0m\u001b[0;34m,\u001b[0m\u001b[0;34m\u001b[0m\u001b[0;34m\u001b[0m\u001b[0m\n\u001b[1;32m    549\u001b[0m               \u001b[0mattrs\u001b[0m\u001b[0;34m=\u001b[0m\u001b[0mattrs\u001b[0m\u001b[0;34m,\u001b[0m\u001b[0;34m\u001b[0m\u001b[0;34m\u001b[0m\u001b[0m\n\u001b[0;32m--> 550\u001b[0;31m               ctx=ctx)\n\u001b[0m\u001b[1;32m    551\u001b[0m         \u001b[0;32melse\u001b[0m\u001b[0;34m:\u001b[0m\u001b[0;34m\u001b[0m\u001b[0;34m\u001b[0m\u001b[0m\n\u001b[1;32m    552\u001b[0m           outputs = execute.execute_with_cancellation(\n",
      "\u001b[0;32m/usr/local/lib/python3.6/dist-packages/tensorflow/python/eager/execute.py\u001b[0m in \u001b[0;36mquick_execute\u001b[0;34m(op_name, num_outputs, inputs, attrs, ctx, name)\u001b[0m\n\u001b[1;32m     58\u001b[0m     \u001b[0mctx\u001b[0m\u001b[0;34m.\u001b[0m\u001b[0mensure_initialized\u001b[0m\u001b[0;34m(\u001b[0m\u001b[0;34m)\u001b[0m\u001b[0;34m\u001b[0m\u001b[0;34m\u001b[0m\u001b[0m\n\u001b[1;32m     59\u001b[0m     tensors = pywrap_tfe.TFE_Py_Execute(ctx._handle, device_name, op_name,\n\u001b[0;32m---> 60\u001b[0;31m                                         inputs, attrs, num_outputs)\n\u001b[0m\u001b[1;32m     61\u001b[0m   \u001b[0;32mexcept\u001b[0m \u001b[0mcore\u001b[0m\u001b[0;34m.\u001b[0m\u001b[0m_NotOkStatusException\u001b[0m \u001b[0;32mas\u001b[0m \u001b[0me\u001b[0m\u001b[0;34m:\u001b[0m\u001b[0;34m\u001b[0m\u001b[0;34m\u001b[0m\u001b[0m\n\u001b[1;32m     62\u001b[0m     \u001b[0;32mif\u001b[0m \u001b[0mname\u001b[0m \u001b[0;32mis\u001b[0m \u001b[0;32mnot\u001b[0m \u001b[0;32mNone\u001b[0m\u001b[0;34m:\u001b[0m\u001b[0;34m\u001b[0m\u001b[0;34m\u001b[0m\u001b[0m\n",
      "\u001b[0;31mKeyboardInterrupt\u001b[0m: "
     ]
    }
   ],
   "source": [
    "run = wandb.init(project=\"candlestick-CNN\", name = model_config['EXPERIMENT'] ,reinit= True,dir = '../data/'\n",
    "                    ,config = {**data_config,**model_config})\n",
    "\n",
    "model.compile(optimizer=tf.keras.optimizers.RMSprop(learning_rate=model_config['LR'])\n",
    "                        ,loss=tf.keras.losses.binary_crossentropy\n",
    "                        ,metrics=model_config['METRICS'])\n",
    "\n",
    "history = model.fit(train\n",
    "                ,epochs=model_config['EPOCHS']\n",
    "                ,steps_per_epoch=data_config['TRAIN_STEPS_PER_EPOCH']\n",
    "                ,verbose=1\n",
    "                ,validation_data=val                \n",
    "                ,validation_freq = model_config['VAL_FREQUENCY']\n",
    "                ,validation_steps = data_config['VAL_STEPS_PER_EPOCH']\n",
    "                ,callbacks=[WandbCallback()]\n",
    "                )\n",
    "  \n",
    "run.finish()\n",
    "\n",
    "# model.save('../data/saved_models/' + model_config['EXPERIMENT'] )\n"
   ]
  },
  {
   "source": [],
   "cell_type": "markdown",
   "metadata": {}
  }
 ]
}