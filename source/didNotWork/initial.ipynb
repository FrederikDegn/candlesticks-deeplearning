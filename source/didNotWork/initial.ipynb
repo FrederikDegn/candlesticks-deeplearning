{
 "cells": [
  {
   "cell_type": "code",
   "execution_count": 1,
   "metadata": {},
   "outputs": [],
   "source": [
    "# cell magic functions :\n",
    "#   `%%capture` blocks jupyter notebook output,\n",
    "#   `%%script false --no-raise-error` avoid cell execution\n",
    "\n",
    "\n",
    "import numpy as np\n",
    "import pandas as pd\n",
    "import matplotlib.pyplot as plt\n",
    "\n",
    "from datetime import datetime, timedelta #Date arithmetic\n",
    "import mplfinance as mpf\n",
    "\n",
    "#import PIL\n",
    "#print('Pillow Version:', PIL.__version__)\n",
    "\n",
    "# load and show an image with Pillow\n",
    "from PIL import Image\n",
    "\n",
    "import h5py\n",
    "import os\n",
    "# TensorFlow and tf.keras\n",
    "import tensorflow as tf\n",
    "from tensorflow import keras\n",
    "\n",
    "import time"
   ]
  },
  {
   "cell_type": "code",
   "execution_count": 2,
   "metadata": {
    "tags": []
   },
   "outputs": [
    {
     "output_type": "stream",
     "name": "stdout",
     "text": "2.2.0\nNum GPUs Available:  1\n"
    }
   ],
   "source": [
    "print(tf.__version__)\n",
    "print(\"Num GPUs Available: \", len(tf.config.experimental.list_physical_devices('GPU')))\n",
    "\n",
    "from tensorflow.python.client import device_lib\n",
    "print(device_lib.list_local_devices())\n",
    "\n"
   ]
  },
  {
   "cell_type": "code",
   "execution_count": 5,
   "metadata": {
    "tags": []
   },
   "outputs": [
    {
     "output_type": "stream",
     "name": "stdout",
     "text": "Memory size is : 0.9375 Mb\nMemory size is : 0.9375 Mb\nMemory size is : 0.9375 Mb\n"
    }
   ],
   "source": [
    "import numpy as np\n",
    "def calcArrayMemorySize(s):\n",
    "    return \"Memory size is : \" + str(s.nbytes/1024/1024) + \" Mb\"\n",
    "    \n",
    "print(calcArrayMemorySize(np.random.randint(0,255,size=(10,64,64,3))))\n",
    "print(calcArrayMemorySize(np.random.random(size=(10,64,64,3))))\n",
    "print(calcArrayMemorySize(np.random.random_sample(size=(10,64,64,3))))\n",
    "\n"
   ]
  },
  {
   "cell_type": "code",
   "execution_count": 21,
   "metadata": {
    "tags": []
   },
   "outputs": [
    {
     "output_type": "stream",
     "name": "stdout",
     "text": "Memory size is : 9.375 Mb\nMemory size is : 9.375 Mb\nMemory size is : 9.375 Mb\n"
    }
   ],
   "source": [
    "\n"
   ]
  },
  {
   "cell_type": "code",
   "execution_count": 15,
   "metadata": {
    "tags": []
   },
   "outputs": [
    {
     "output_type": "stream",
     "name": "stdout",
     "text": "Memory size is : 9.375 Mb\nMemory size is : 9.375 Mb\n"
    }
   ],
   "source": [
    "np.random.random_sample()"
   ]
  },
  {
   "cell_type": "code",
   "execution_count": 9,
   "metadata": {},
   "outputs": [
    {
     "output_type": "execute_result",
     "data": {
      "text/plain": "'Memory size is : 9.375 Mb'"
     },
     "metadata": {},
     "execution_count": 9
    }
   ],
   "source": [
    "\n",
    "calcArrayMemorySize(arr)"
   ]
  },
  {
   "cell_type": "code",
   "execution_count": 2,
   "metadata": {},
   "outputs": [],
   "source": [
    "DATE_WINDOW = 20\n",
    "#NO_OF_IMAGES = 10000\n",
    "UP_THRESHOLD_PCT = 1\n",
    "DOWN_THRESHOLD_PCT = 1\n",
    "IMG_SIZE = 64\n",
    "\n",
    "def fn_setTarget(val):\n",
    "    if val > UP_THRESHOLD_PCT: out = 2\n",
    "    elif val < -DOWN_THRESHOLD_PCT: out = 1\n",
    "    else: out = 0\n",
    "    return out"
   ]
  },
  {
   "cell_type": "markdown",
   "metadata": {},
   "source": [
    "* Use pandas_datareader for reading stock prices for various APIs\n",
    "    + [This article is uses Google/Yahoo API which is no longer supports](https://learndatasci.com/tutorials/python-finance-part-yahoo-finance-api-pandas-matplotlib/)\n",
    "    + [Uses Yahoo API but it didnt work for me](https://medium.com/@jouneidraza522/yahoo-finance-api-to-get-stocks-tickers-data-in-python-c49820249a18)\n",
    "\n",
    "* [Uses free financial API Financialmodelingprep and plotly. CHECK IT OUT](https://towardsdatascience.com/python-stock-analysis-candlestick-chart-with-python-and-plotly-e619143642bb)\n",
    "\n",
    "* [yfinance package CHECK IT](https://aroussi.com/post/python-yahoo-finance)\n",
    "\n",
    "* ['matplotlib.finance' module is deprecated. Did not work](https://pythonprogramming.net/candlestick-ohlc-graph-matplotlib-tutorial/)\n",
    "\n",
    "* Load stock data from CSV and then plot Candlestick\n",
    "    + [Plotly Candlestick charts - Saving Images is complicated](https://plotly.com/python/candlestick-charts/)\n",
    "    + [USED HERE : new mplfinance package](https://pypi.org/project/mplfinance/)\n",
    "    \n",
    "    "
   ]
  },
  {
   "cell_type": "markdown",
   "metadata": {},
   "source": [
    "### Misc notes\n",
    "* If you are going to do a lot of selections by date, it may be quicker to set the date column as the index first. Then you can select rows by date using df.loc[start_date:end_date].\n",
    "\n",
    "* The plot was cleaned up using rcParams dict of matplotlib. This article was useful https://github.com/matplotlib/mplfinance/issues/48\n",
    "* All the rcParams are towards the end of this https://matplotlib.org/3.2.1/tutorials/introductory/customizing.html#customizing-with-matplotlibrc-files\n",
    "\n",
    "* Creating a new column using UDF fn_setTarget `df['Prev_Close'] = (((df['Close'] / df['Close'].shift(1)) - 1) * 100).apply(fn_setTarget)`\n",
    "\n",
    "* Append to array and extract only the value from the DF and not the index `target_arr.append(data[-1:]['Target'].item())`\n",
    "\n",
    "* Last 5 rows : `df[-5:]`\n",
    "* Everthing other than last 5 rows : `df[:-5]`\n",
    "\n",
    "* Image Manipulation\n",
    "    + https://realpython.com/storing-images-in-python/\n",
    "    + https://www.pluralsight.com/guides/importing-image-data-into-numpy-arrays"
   ]
  },
  {
   "cell_type": "code",
   "execution_count": 3,
   "metadata": {
    "tags": []
   },
   "outputs": [],
   "source": [
    "#Without parse_date, date column is typed as Object\n",
    "#df['date'] = df['date'].astype('datetime64')\n",
    "#Also, could have used pd.to_datetime()\n",
    "# Also : df.index.name = 'Date'\n",
    "df = pd.read_csv(\"./data/asx_03Jul20.csv\",parse_dates=[1]) #,index_col=1)\n",
    "#print(df.head())\n"
   ]
  },
  {
   "cell_type": "code",
   "execution_count": 4,
   "metadata": {
    "tags": []
   },
   "outputs": [],
   "source": [
    "# Rename cols needed for next steps ?\n",
    "df.columns = ['Symbol','Date','Open','High','Low','Close','Volume','Adjusted']\n",
    "df = df[df['Close'] > 0]\n",
    "#print(df.info())\n",
    "max_date = df.index.max()"
   ]
  },
  {
   "cell_type": "code",
   "execution_count": 5,
   "metadata": {},
   "outputs": [],
   "source": [
    "#Compute Growth and Target column\n",
    "df['Close_Prev'] = df.groupby(['Symbol'])['Close'].shift(1)\n",
    "df = df[df['Close_Prev'] > 0]\n",
    "df['Target'] = (100 * ((df['Close']/df['Close_Prev']) - 1)).apply(fn_setTarget)\n",
    "#df.groupby(['Target'])['Target'].count()\n"
   ]
  },
  {
   "cell_type": "code",
   "execution_count": 6,
   "metadata": {},
   "outputs": [],
   "source": [
    "%%script false --no-raise-error\n",
    "\n",
    "\n",
    "# Rows per symbols\n",
    "df.groupby(['Symbol'])['Symbol'].count()\n"
   ]
  },
  {
   "cell_type": "code",
   "execution_count": 7,
   "metadata": {},
   "outputs": [],
   "source": [
    "# Core function that creates the plot and saves to a file\n",
    "\n",
    "def save_candlestick(data,index):\n",
    "        \n",
    "    # To set a datetime as an index\n",
    "    data = data.set_index(pd.DatetimeIndex(data['Date'])) \n",
    "   \n",
    "    #Create custom styles\n",
    "    mc = mpf.make_marketcolors(up='g',down='r')\n",
    "    rc = {'xtick.major.bottom':False\n",
    "        ,'ytick.major.left':False\n",
    "        ,'xtick.major.size':0,'ytick.major.size':0\n",
    "        ,'axes.labelsize' : 0\n",
    "        ,'savefig.jpeg_quality' : 5\n",
    "        ,'savefig.bbox':'tight'\n",
    "        ,'patch.linewidth' : 0 #candle border\n",
    "        ,'lines.linewidth' : 1.5 #wick width\n",
    "        ,'axes.spines.left' :False #plot border\n",
    "        ,'axes.spines.top' :False\n",
    "        ,'axes.spines.bottom' :False\n",
    "        ,'axes.spines.right' :False\n",
    "        }\n",
    "    s  = mpf.make_mpf_style(marketcolors=mc,rc = rc)\n",
    "    \n",
    "    # First we set the kwargs that we will use for all of these examples:\n",
    "    kwargs = dict(type='candle',volume=False,figratio=(5,5),figscale=1)\n",
    "    #mpf.plot(data,**kwargs,style = s,savefig='data/images/fig'+ str(index) +'.png')\n",
    "    #mpf.plot(data,**kwargs,style = s,savefig=r'data/temp_image.png')\n",
    "    mpf.plot(data,**kwargs,style = s,savefig='data/temp_image'+ str(index) +'.png')\n",
    "    #time.sleep(1)\n",
    "    "
   ]
  },
  {
   "cell_type": "code",
   "execution_count": 8,
   "metadata": {
    "tags": []
   },
   "outputs": [
    {
     "output_type": "stream",
     "name": "stdout",
     "text": "A2M.AX  1331\nAGL.AX  3917\nALL.AX  3917\nALQ.AX  3917\nALU.AX  3708\nALX.AX  2637\nAMC.AX  3917\nAMP.AX  3917\nANN.AX  3917\nANZ.AX  3917\nAPA.AX  3916\nAPT.AX  762\nAST.AX  3676\nASX.AX  3917\nAWC.AX  3917\nAZJ.AX  2427\nBEN.AX  3917\nBHP.AX  3917\nBLD.AX  3915\nBOQ.AX  3917\n"
    }
   ],
   "source": [
    "data_grouped = df.groupby('Symbol')\n",
    "for name,group in data_grouped:    \n",
    "    print(name + '  ' + str(group['Symbol'].count()))"
   ]
  },
  {
   "cell_type": "code",
   "execution_count": 9,
   "metadata": {},
   "outputs": [],
   "source": [
    "%%script false --no-raise-error\n",
    "\n",
    "# Function that will be called by multiprocessing \n",
    "# Separate process will spawned for each Symbol\n",
    "\n",
    "# First attempt was creating set_x_sub as a list but later settled with single array containing both x and y ie set_xy\n",
    "\n",
    "def inner_loop(group):\n",
    "    print(\"inside\")\n",
    "    \n",
    "    loop_range=  (group['Symbol'].count()) -  (DATE_WINDOW) - 10\n",
    "    #loop_range = 5\n",
    "    fname = group[-1:]['Symbol'].item()\n",
    "    #set_x_sub = [] #np.empty(shape=(NO_OF_IMAGES,IMG_SIZE,IMG_SIZE,4))\n",
    "    #set_y_sub = []\n",
    "\n",
    "    #set_x_sub = np.empty(shape=(loop_range,IMG_SIZE,IMG_SIZE,3))\n",
    "    #set_y_sub = np.empty(shape=(loop_range),dtype = 'int64')\n",
    "\n",
    "    set_xy = (np.empty(shape=(loop_range),dtype = 'int64')\n",
    "            ,np.empty(shape=(loop_range,IMG_SIZE,IMG_SIZE,3)))\n",
    "\n",
    "    for i in range(loop_range):    \n",
    "        #print(\"Iter:\" + str(i))    \n",
    "        #Save the Target value of the last row as this will be the predicted value\n",
    "        #target_arr.append(data[-1:]['Target'].item())\n",
    "        #set_y_sub.append(group[-1:]['Target'].item())\n",
    "        \n",
    "        #set_y_sub[i] = group[-1:]['Target'].item()\n",
    "\n",
    "        set_xy[0][i] = group[-1:]['Target'].item()\n",
    "\n",
    "        #Remove the last row and plot\n",
    "        group = group[:-1]        \n",
    "      \n",
    "        #Read the saved image and convert it into numpy after resizing\n",
    "        save_candlestick(group[-DATE_WINDOW:],fname)\n",
    "\n",
    "        img_asNumpy = np.array(Image.open('data/temp_image'+ fname +'.png').resize((IMG_SIZE,IMG_SIZE)))\n",
    "        \n",
    "        #image_without_alpha \n",
    "        img_asNumpy = img_asNumpy[:,:,:3]\n",
    "        #set_x_sub.append(img_asNumpy)    \n",
    "\n",
    "        #set_x_sub[i] = img_asNumpy\n",
    "\n",
    "        set_xy[1][i] = img_asNumpy\n",
    "    \n",
    "    #out = {\"set_y\": set_y_sub,\"set_x\": set_x_sub}\n",
    "    #return out\n",
    "    #return [set_y_sub,set_x_sub]\n",
    "    return set_xy\n",
    "    \n",
    "\n",
    "\n",
    "   "
   ]
  },
  {
   "cell_type": "code",
   "execution_count": 10,
   "metadata": {},
   "outputs": [],
   "source": [
    "# Function that separates x and y\n",
    "# And also created .h5 files to save the arrays\n",
    "def createXY(result,fname):\n",
    "    first = [x for (x,y) in result]\n",
    "    set_y = np.concatenate(first,axis =0)\n",
    "\n",
    "    second = [y for (x,y) in result]\n",
    "    set_x = np.concatenate(second,axis =0)\n",
    "\n",
    "    print(fname)\n",
    "\n",
    "    file = h5py.File(\"data/\" + fname + \".h5\", \"w\")\n",
    "    file.create_dataset('set_x', data=set_x)\n",
    "    file.create_dataset('set_y', data=set_y)\n",
    "    file.close()\n"
   ]
  },
  {
   "cell_type": "code",
   "execution_count": 11,
   "metadata": {
    "tags": []
   },
   "outputs": [],
   "source": [
    "%%script false --no-raise-error\n",
    "\n",
    "#Loop through an array one batch at a time\n",
    "syms = df['Symbol'].unique()\n",
    "print(len(syms))\n",
    "for i in range(0,len(syms),3):\n",
    "    print(i)\n",
    "    print(syms[i:i+3])\n",
    "\n"
   ]
  },
  {
   "cell_type": "markdown",
   "metadata": {},
   "source": [
    "### Multiprocessing function .. take long time"
   ]
  },
  {
   "cell_type": "code",
   "execution_count": 12,
   "metadata": {
    "tags": []
   },
   "outputs": [],
   "source": [
    "%%script false --no-raise-error\n",
    "\n",
    "#Multiprocessing with batch of Symbols\n",
    "start_time = time.time()\n",
    "print(start_time)\n",
    "import multiprocessing as mp\n",
    "def applyParallel(dfGrouped, func):\n",
    "    with mp.Pool(processes = 24) as p:\n",
    "        ret_list = p.map(func, [group for name, group in dfGrouped])\n",
    "    p.close()    \n",
    "    #p.join()    \n",
    "    return ret_list\n",
    "    #return pd.concat(ret_list)\n",
    "\n",
    "#data = df[df['Symbol'].isin(['A2M.AX','AGL.AX'])]\n",
    "# data = df\n",
    "\n",
    "for i in range(0,len(syms),3):\n",
    "    print(syms[i:i+3])\n",
    "    start_time = time.time()\n",
    "    data = df[df['Symbol'].isin(syms[i:i+3])]\n",
    "    data_grouped = data.groupby('Symbol')\n",
    "    print(data_grouped['Symbol'].unique())\n",
    "    result = applyParallel(data_grouped, inner_loop)\n",
    "\n",
    "    print(\"Length of result = \" +  str(len(result)))\n",
    "    createXY(result,\"Set\" + str(i))\n",
    "    print(\"--- %s seconds ---\" % (time.time() - start_time))\n",
    "\n",
    "#print(np.array(result).shape)\n",
    "#--- 1407.3019680976868 seconds ---\n",
    "\n"
   ]
  },
  {
   "cell_type": "code",
   "execution_count": 13,
   "metadata": {},
   "outputs": [],
   "source": [
    "%%script false --no-raise-error\n",
    "\n",
    "# Test saved file reading\n",
    "file = h5py.File(\"data/Set0.h5\", \"r\")\n",
    "set_x = file[\"set_x\"][:]\n",
    "set_y = file[\"set_y\"][:]\n",
    "file.close()\n",
    "\n"
   ]
  },
  {
   "cell_type": "code",
   "execution_count": 2,
   "metadata": {},
   "outputs": [],
   "source": [
    "# Reads .h5 files\n",
    "# Appends them to a list\n",
    "# Finally converts the list to np\n",
    "\n",
    "set_x = []\n",
    "set_y = []\n",
    "import os\n",
    "for file in os.listdir(\"data/\"):\n",
    "    if file.endswith(\".h5\"):\n",
    "        fname = os.path.join(\"data\", file)\n",
    "        file = h5py.File(fname, \"r\")\n",
    "        set_x_temp = file[\"set_x\"][:]\n",
    "        set_y_temp = file[\"set_y\"][:]\n",
    "\n",
    "        set_x.append(set_x_temp)\n",
    "        set_y.append(set_y_temp)\n",
    "\n",
    "\n",
    "        file.close()\n",
    "\n",
    "# Since set_x and set_y are list of arrays, use np.concatenate()\n",
    "# Better than result_array = np.array(result) ?\n",
    "\n",
    "set_x = np.concatenate(set_x,axis=0)\n",
    "set_y = np.concatenate(set_y,axis=0)"
   ]
  },
  {
   "cell_type": "code",
   "execution_count": 3,
   "metadata": {
    "tags": []
   },
   "outputs": [
    {
     "output_type": "stream",
     "name": "stdout",
     "text": "(64889, 64, 64, 3)\n(64889,)\n"
    }
   ],
   "source": [
    "#Normalise X\n",
    "set_x = set_x/255.\n",
    "\n",
    "\n",
    "#One hot encode Y\n",
    "#set_y = tf.keras.utils.to_categorical(set_y)\n",
    "\n",
    "print(set_x.shape)\n",
    "print(set_y.shape)\n"
   ]
  },
  {
   "cell_type": "code",
   "execution_count": 4,
   "metadata": {
    "tags": []
   },
   "outputs": [
    {
     "output_type": "stream",
     "name": "stdout",
     "text": "[0 1 2]\n[33882 15019 15988]\n"
    }
   ],
   "source": [
    "values, counts = np.unique(set_y, axis=0, return_counts=True)\n",
    "print(values)\n",
    "print(counts)\n",
    "\n",
    "# into a dict for presentation\n",
    "#{tuple(a):b for a,b in zip(values, counts)}\n",
    "\n"
   ]
  },
  {
   "cell_type": "code",
   "execution_count": 5,
   "metadata": {
    "tags": []
   },
   "outputs": [
    {
     "output_type": "stream",
     "name": "stdout",
     "text": "(64889, 64, 64, 3)\n(64889,)\n"
    }
   ],
   "source": [
    "print(set_x.shape)\n",
    "print(set_y.shape)"
   ]
  },
  {
   "cell_type": "code",
   "execution_count": 26,
   "metadata": {},
   "outputs": [
    {
     "output_type": "execute_result",
     "data": {
      "text/plain": "51911"
     },
     "metadata": {},
     "execution_count": 26
    }
   ],
   "source": [
    "# Alternate train test split\n",
    "\n",
    "m = set_x.shape[0]                  # number of training examples\n",
    "\n",
    "#train_pct_index = int(0.8 * len(X))\n",
    "train_pct_index = np.random.randint(m, size= (m * 80)//100)\n",
    "\n",
    "#train_set_x, test_set_x = set_x[train_pct_index,:,:,:], set_x[~train_pct_index:,:,:,:]\n",
    "#train_set_y, test_set_y = set_y[:train_pct_index], set_y[~train_pct_index:]\n",
    "\n",
    "len(train_pct_index)\n",
    "\n"
   ]
  },
  {
   "cell_type": "code",
   "execution_count": 37,
   "metadata": {
    "tags": []
   },
   "outputs": [
    {
     "output_type": "stream",
     "name": "stdout",
     "text": "64889\n[ 3078 28215  9127 ... 12096 53025 48458]\n[45534 32335 35195 ... 34386 32356 35895]\n(48666, 64, 64, 3)\n(48666, 3)\n(16222, 64, 64, 3)\n(16222, 3)\n"
    }
   ],
   "source": [
    "m = set_x.shape[0]                  # number of training examples\n",
    "\n",
    "#Shuffle X and Y ?\n",
    "#permutation = list(np.random.permutation(m))\n",
    "#set_x = set_x[permutation,:,:,:]\n",
    "#set_y = set_y[permutation,:]\n",
    "    \n",
    "print(m)\n",
    "\n",
    "#Split train/test\n",
    "training_idx = np.random.randint(m, size= (m * 75)//100)\n",
    "test_idx = np.random.randint(m, size= (m * 25)//100)\n",
    "print(training_idx)\n",
    "print(test_idx)\n",
    "\n",
    "train_set_x, test_set_x = set_x[training_idx,:,:,:], set_x[test_idx,:,:,:]\n",
    "train_set_y, test_set_y = set_y[training_idx], set_y[test_idx]\n",
    "\n",
    "\n",
    "print(train_set_x.shape)\n",
    "print(train_set_y.shape)\n",
    "print(test_set_x.shape)\n",
    "print(test_set_y.shape)\n"
   ]
  },
  {
   "cell_type": "code",
   "execution_count": 6,
   "metadata": {
    "tags": []
   },
   "outputs": [
    {
     "output_type": "stream",
     "name": "stdout",
     "text": "[name: \"/device:CPU:0\"\ndevice_type: \"CPU\"\nmemory_limit: 268435456\nlocality {\n}\nincarnation: 11345436357102224209\n, name: \"/device:XLA_CPU:0\"\ndevice_type: \"XLA_CPU\"\nmemory_limit: 17179869184\nlocality {\n}\nincarnation: 3724767903229548254\nphysical_device_desc: \"device: XLA_CPU device\"\n]\n"
    }
   ],
   "source": [
    "\n",
    "from tensorflow.python.client import device_lib\n",
    "print(device_lib.list_local_devices())\n"
   ]
  },
  {
   "cell_type": "code",
   "execution_count": 28,
   "metadata": {
    "tags": []
   },
   "outputs": [
    {
     "output_type": "stream",
     "name": "stdout",
     "text": "Model: \"sequential_2\"\n_________________________________________________________________\nLayer (type)                 Output Shape              Param #   \n=================================================================\nflatten_2 (Flatten)          (None, 12288)             0         \n_________________________________________________________________\ndense_6 (Dense)              (None, 512)               6291968   \n_________________________________________________________________\ndense_7 (Dense)              (None, 64)                32832     \n_________________________________________________________________\ndense_8 (Dense)              (None, 3)                 195       \n=================================================================\nTotal params: 6,324,995\nTrainable params: 6,324,995\nNon-trainable params: 0\n_________________________________________________________________\n"
    }
   ],
   "source": [
    "model = keras.Sequential([\n",
    "    #keras.layers.Flatten(input_shape=(288, 432,3)),\n",
    "    keras.layers.Flatten(input_shape=[64,64,3]),    \n",
    "    keras.layers.Dense(512, activation='relu'),        \n",
    "    keras.layers.Dense(64, activation='relu'),        \n",
    "    keras.layers.Dense(3,activation='softmax')\n",
    "])\n",
    "\n",
    "model.summary()\n",
    "\n"
   ]
  },
  {
   "cell_type": "code",
   "execution_count": 30,
   "metadata": {
    "tags": []
   },
   "outputs": [
    {
     "output_type": "stream",
     "name": "stdout",
     "text": "Epoch 1/10\nException ignored in: <function WeakKeyDictionary.__init__.<locals>.remove at 0x7f352e2ed040>\nTraceback (most recent call last):\n  File \"/usr/local/lib/python3.8/weakref.py\", line 345, in remove\n    def remove(k, selfref=ref(self)):\nKeyboardInterrupt: \n2028/2028 [==============================] - 39s 19ms/step - loss: 1.0276 - accuracy: 0.5218\nEpoch 2/10\n 425/2028 [=====>........................] - ETA: 33s - loss: 1.0265 - accuracy: 0.5210"
    }
   ],
   "source": [
    "\n",
    "model.compile(optimizer=tf.keras.optimizers.Adam(learning_rate=0.0001),\n",
    "              #loss=tf.keras.losses.SparseCategoricalCrossentropy(from_logits=True),\n",
    "              #loss=tf.keras.losses.CategoricalCrossentropy(),\n",
    "              loss=\"sparse_categorical_crossentropy\",\n",
    "              metrics=['accuracy'])\n",
    "\n",
    "#model.fit(train_set_x, train_set_y, epochs=10)\n",
    "history = model.fit(set_x, set_y, epochs=10) #,validation_split=0.2)\n"
   ]
  },
  {
   "cell_type": "code",
   "execution_count": 24,
   "metadata": {},
   "outputs": [
    {
     "output_type": "display_data",
     "data": {
      "text/plain": "<Figure size 576x360 with 1 Axes>",
      "image/svg+xml": "<?xml version=\"1.0\" encoding=\"utf-8\" standalone=\"no\"?>\n<!DOCTYPE svg PUBLIC \"-//W3C//DTD SVG 1.1//EN\"\n  \"http://www.w3.org/Graphics/SVG/1.1/DTD/svg11.dtd\">\n<!-- Created with matplotlib (https://matplotlib.org/) -->\n<svg height=\"306.677344pt\" version=\"1.1\" viewBox=\"0 0 483.703125 306.677344\" width=\"483.703125pt\" xmlns=\"http://www.w3.org/2000/svg\" xmlns:xlink=\"http://www.w3.org/1999/xlink\">\n <defs>\n  <style type=\"text/css\">\n*{stroke-linecap:butt;stroke-linejoin:round;}\n  </style>\n </defs>\n <g id=\"figure_1\">\n  <g id=\"patch_1\">\n   <path d=\"M 0 306.677344 \nL 483.703125 306.677344 \nL 483.703125 0 \nL 0 0 \nz\n\" style=\"fill:none;\"/>\n  </g>\n  <g id=\"axes_1\">\n   <g id=\"patch_2\">\n    <path d=\"M 30.103125 282.799219 \nL 476.503125 282.799219 \nL 476.503125 10.999219 \nL 30.103125 10.999219 \nz\n\" style=\"fill:#ffffff;\"/>\n   </g>\n   <g id=\"matplotlib.axis_1\">\n    <g id=\"xtick_1\">\n     <g id=\"line2d_1\">\n      <path clip-path=\"url(#pd8a455e46e)\" d=\"M 50.394034 282.799219 \nL 50.394034 10.999219 \n\" style=\"fill:none;stroke:#b0b0b0;stroke-linecap:square;stroke-width:0.8;\"/>\n     </g>\n     <g id=\"line2d_2\">\n      <defs>\n       <path d=\"M 0 0 \nL 0 3.5 \n\" id=\"m8f3f2262e3\" style=\"stroke:#000000;stroke-width:0.8;\"/>\n      </defs>\n      <g>\n       <use style=\"stroke:#000000;stroke-width:0.8;\" x=\"50.394034\" xlink:href=\"#m8f3f2262e3\" y=\"282.799219\"/>\n      </g>\n     </g>\n     <g id=\"text_1\">\n      <!-- 0.00 -->\n      <defs>\n       <path d=\"M 31.78125 66.40625 \nQ 24.171875 66.40625 20.328125 58.90625 \nQ 16.5 51.421875 16.5 36.375 \nQ 16.5 21.390625 20.328125 13.890625 \nQ 24.171875 6.390625 31.78125 6.390625 \nQ 39.453125 6.390625 43.28125 13.890625 \nQ 47.125 21.390625 47.125 36.375 \nQ 47.125 51.421875 43.28125 58.90625 \nQ 39.453125 66.40625 31.78125 66.40625 \nz\nM 31.78125 74.21875 \nQ 44.046875 74.21875 50.515625 64.515625 \nQ 56.984375 54.828125 56.984375 36.375 \nQ 56.984375 17.96875 50.515625 8.265625 \nQ 44.046875 -1.421875 31.78125 -1.421875 \nQ 19.53125 -1.421875 13.0625 8.265625 \nQ 6.59375 17.96875 6.59375 36.375 \nQ 6.59375 54.828125 13.0625 64.515625 \nQ 19.53125 74.21875 31.78125 74.21875 \nz\n\" id=\"DejaVuSans-48\"/>\n       <path d=\"M 10.6875 12.40625 \nL 21 12.40625 \nL 21 0 \nL 10.6875 0 \nz\n\" id=\"DejaVuSans-46\"/>\n      </defs>\n      <g transform=\"translate(39.261222 297.397656)scale(0.1 -0.1)\">\n       <use xlink:href=\"#DejaVuSans-48\"/>\n       <use x=\"63.623047\" xlink:href=\"#DejaVuSans-46\"/>\n       <use x=\"95.410156\" xlink:href=\"#DejaVuSans-48\"/>\n       <use x=\"159.033203\" xlink:href=\"#DejaVuSans-48\"/>\n      </g>\n     </g>\n    </g>\n    <g id=\"xtick_2\">\n     <g id=\"line2d_3\">\n      <path clip-path=\"url(#pd8a455e46e)\" d=\"M 101.121307 282.799219 \nL 101.121307 10.999219 \n\" style=\"fill:none;stroke:#b0b0b0;stroke-linecap:square;stroke-width:0.8;\"/>\n     </g>\n     <g id=\"line2d_4\">\n      <g>\n       <use style=\"stroke:#000000;stroke-width:0.8;\" x=\"101.121307\" xlink:href=\"#m8f3f2262e3\" y=\"282.799219\"/>\n      </g>\n     </g>\n     <g id=\"text_2\">\n      <!-- 0.25 -->\n      <defs>\n       <path d=\"M 19.1875 8.296875 \nL 53.609375 8.296875 \nL 53.609375 0 \nL 7.328125 0 \nL 7.328125 8.296875 \nQ 12.9375 14.109375 22.625 23.890625 \nQ 32.328125 33.6875 34.8125 36.53125 \nQ 39.546875 41.84375 41.421875 45.53125 \nQ 43.3125 49.21875 43.3125 52.78125 \nQ 43.3125 58.59375 39.234375 62.25 \nQ 35.15625 65.921875 28.609375 65.921875 \nQ 23.96875 65.921875 18.8125 64.3125 \nQ 13.671875 62.703125 7.8125 59.421875 \nL 7.8125 69.390625 \nQ 13.765625 71.78125 18.9375 73 \nQ 24.125 74.21875 28.421875 74.21875 \nQ 39.75 74.21875 46.484375 68.546875 \nQ 53.21875 62.890625 53.21875 53.421875 \nQ 53.21875 48.921875 51.53125 44.890625 \nQ 49.859375 40.875 45.40625 35.40625 \nQ 44.1875 33.984375 37.640625 27.21875 \nQ 31.109375 20.453125 19.1875 8.296875 \nz\n\" id=\"DejaVuSans-50\"/>\n       <path d=\"M 10.796875 72.90625 \nL 49.515625 72.90625 \nL 49.515625 64.59375 \nL 19.828125 64.59375 \nL 19.828125 46.734375 \nQ 21.96875 47.46875 24.109375 47.828125 \nQ 26.265625 48.1875 28.421875 48.1875 \nQ 40.625 48.1875 47.75 41.5 \nQ 54.890625 34.8125 54.890625 23.390625 \nQ 54.890625 11.625 47.5625 5.09375 \nQ 40.234375 -1.421875 26.90625 -1.421875 \nQ 22.3125 -1.421875 17.546875 -0.640625 \nQ 12.796875 0.140625 7.71875 1.703125 \nL 7.71875 11.625 \nQ 12.109375 9.234375 16.796875 8.0625 \nQ 21.484375 6.890625 26.703125 6.890625 \nQ 35.15625 6.890625 40.078125 11.328125 \nQ 45.015625 15.765625 45.015625 23.390625 \nQ 45.015625 31 40.078125 35.4375 \nQ 35.15625 39.890625 26.703125 39.890625 \nQ 22.75 39.890625 18.8125 39.015625 \nQ 14.890625 38.140625 10.796875 36.28125 \nz\n\" id=\"DejaVuSans-53\"/>\n      </defs>\n      <g transform=\"translate(89.988494 297.397656)scale(0.1 -0.1)\">\n       <use xlink:href=\"#DejaVuSans-48\"/>\n       <use x=\"63.623047\" xlink:href=\"#DejaVuSans-46\"/>\n       <use x=\"95.410156\" xlink:href=\"#DejaVuSans-50\"/>\n       <use x=\"159.033203\" xlink:href=\"#DejaVuSans-53\"/>\n      </g>\n     </g>\n    </g>\n    <g id=\"xtick_3\">\n     <g id=\"line2d_5\">\n      <path clip-path=\"url(#pd8a455e46e)\" d=\"M 151.84858 282.799219 \nL 151.84858 10.999219 \n\" style=\"fill:none;stroke:#b0b0b0;stroke-linecap:square;stroke-width:0.8;\"/>\n     </g>\n     <g id=\"line2d_6\">\n      <g>\n       <use style=\"stroke:#000000;stroke-width:0.8;\" x=\"151.84858\" xlink:href=\"#m8f3f2262e3\" y=\"282.799219\"/>\n      </g>\n     </g>\n     <g id=\"text_3\">\n      <!-- 0.50 -->\n      <g transform=\"translate(140.715767 297.397656)scale(0.1 -0.1)\">\n       <use xlink:href=\"#DejaVuSans-48\"/>\n       <use x=\"63.623047\" xlink:href=\"#DejaVuSans-46\"/>\n       <use x=\"95.410156\" xlink:href=\"#DejaVuSans-53\"/>\n       <use x=\"159.033203\" xlink:href=\"#DejaVuSans-48\"/>\n      </g>\n     </g>\n    </g>\n    <g id=\"xtick_4\">\n     <g id=\"line2d_7\">\n      <path clip-path=\"url(#pd8a455e46e)\" d=\"M 202.575852 282.799219 \nL 202.575852 10.999219 \n\" style=\"fill:none;stroke:#b0b0b0;stroke-linecap:square;stroke-width:0.8;\"/>\n     </g>\n     <g id=\"line2d_8\">\n      <g>\n       <use style=\"stroke:#000000;stroke-width:0.8;\" x=\"202.575852\" xlink:href=\"#m8f3f2262e3\" y=\"282.799219\"/>\n      </g>\n     </g>\n     <g id=\"text_4\">\n      <!-- 0.75 -->\n      <defs>\n       <path d=\"M 8.203125 72.90625 \nL 55.078125 72.90625 \nL 55.078125 68.703125 \nL 28.609375 0 \nL 18.3125 0 \nL 43.21875 64.59375 \nL 8.203125 64.59375 \nz\n\" id=\"DejaVuSans-55\"/>\n      </defs>\n      <g transform=\"translate(191.44304 297.397656)scale(0.1 -0.1)\">\n       <use xlink:href=\"#DejaVuSans-48\"/>\n       <use x=\"63.623047\" xlink:href=\"#DejaVuSans-46\"/>\n       <use x=\"95.410156\" xlink:href=\"#DejaVuSans-55\"/>\n       <use x=\"159.033203\" xlink:href=\"#DejaVuSans-53\"/>\n      </g>\n     </g>\n    </g>\n    <g id=\"xtick_5\">\n     <g id=\"line2d_9\">\n      <path clip-path=\"url(#pd8a455e46e)\" d=\"M 253.303125 282.799219 \nL 253.303125 10.999219 \n\" style=\"fill:none;stroke:#b0b0b0;stroke-linecap:square;stroke-width:0.8;\"/>\n     </g>\n     <g id=\"line2d_10\">\n      <g>\n       <use style=\"stroke:#000000;stroke-width:0.8;\" x=\"253.303125\" xlink:href=\"#m8f3f2262e3\" y=\"282.799219\"/>\n      </g>\n     </g>\n     <g id=\"text_5\">\n      <!-- 1.00 -->\n      <defs>\n       <path d=\"M 12.40625 8.296875 \nL 28.515625 8.296875 \nL 28.515625 63.921875 \nL 10.984375 60.40625 \nL 10.984375 69.390625 \nL 28.421875 72.90625 \nL 38.28125 72.90625 \nL 38.28125 8.296875 \nL 54.390625 8.296875 \nL 54.390625 0 \nL 12.40625 0 \nz\n\" id=\"DejaVuSans-49\"/>\n      </defs>\n      <g transform=\"translate(242.170312 297.397656)scale(0.1 -0.1)\">\n       <use xlink:href=\"#DejaVuSans-49\"/>\n       <use x=\"63.623047\" xlink:href=\"#DejaVuSans-46\"/>\n       <use x=\"95.410156\" xlink:href=\"#DejaVuSans-48\"/>\n       <use x=\"159.033203\" xlink:href=\"#DejaVuSans-48\"/>\n      </g>\n     </g>\n    </g>\n    <g id=\"xtick_6\">\n     <g id=\"line2d_11\">\n      <path clip-path=\"url(#pd8a455e46e)\" d=\"M 304.030398 282.799219 \nL 304.030398 10.999219 \n\" style=\"fill:none;stroke:#b0b0b0;stroke-linecap:square;stroke-width:0.8;\"/>\n     </g>\n     <g id=\"line2d_12\">\n      <g>\n       <use style=\"stroke:#000000;stroke-width:0.8;\" x=\"304.030398\" xlink:href=\"#m8f3f2262e3\" y=\"282.799219\"/>\n      </g>\n     </g>\n     <g id=\"text_6\">\n      <!-- 1.25 -->\n      <g transform=\"translate(292.897585 297.397656)scale(0.1 -0.1)\">\n       <use xlink:href=\"#DejaVuSans-49\"/>\n       <use x=\"63.623047\" xlink:href=\"#DejaVuSans-46\"/>\n       <use x=\"95.410156\" xlink:href=\"#DejaVuSans-50\"/>\n       <use x=\"159.033203\" xlink:href=\"#DejaVuSans-53\"/>\n      </g>\n     </g>\n    </g>\n    <g id=\"xtick_7\">\n     <g id=\"line2d_13\">\n      <path clip-path=\"url(#pd8a455e46e)\" d=\"M 354.75767 282.799219 \nL 354.75767 10.999219 \n\" style=\"fill:none;stroke:#b0b0b0;stroke-linecap:square;stroke-width:0.8;\"/>\n     </g>\n     <g id=\"line2d_14\">\n      <g>\n       <use style=\"stroke:#000000;stroke-width:0.8;\" x=\"354.75767\" xlink:href=\"#m8f3f2262e3\" y=\"282.799219\"/>\n      </g>\n     </g>\n     <g id=\"text_7\">\n      <!-- 1.50 -->\n      <g transform=\"translate(343.624858 297.397656)scale(0.1 -0.1)\">\n       <use xlink:href=\"#DejaVuSans-49\"/>\n       <use x=\"63.623047\" xlink:href=\"#DejaVuSans-46\"/>\n       <use x=\"95.410156\" xlink:href=\"#DejaVuSans-53\"/>\n       <use x=\"159.033203\" xlink:href=\"#DejaVuSans-48\"/>\n      </g>\n     </g>\n    </g>\n    <g id=\"xtick_8\">\n     <g id=\"line2d_15\">\n      <path clip-path=\"url(#pd8a455e46e)\" d=\"M 405.484943 282.799219 \nL 405.484943 10.999219 \n\" style=\"fill:none;stroke:#b0b0b0;stroke-linecap:square;stroke-width:0.8;\"/>\n     </g>\n     <g id=\"line2d_16\">\n      <g>\n       <use style=\"stroke:#000000;stroke-width:0.8;\" x=\"405.484943\" xlink:href=\"#m8f3f2262e3\" y=\"282.799219\"/>\n      </g>\n     </g>\n     <g id=\"text_8\">\n      <!-- 1.75 -->\n      <g transform=\"translate(394.352131 297.397656)scale(0.1 -0.1)\">\n       <use xlink:href=\"#DejaVuSans-49\"/>\n       <use x=\"63.623047\" xlink:href=\"#DejaVuSans-46\"/>\n       <use x=\"95.410156\" xlink:href=\"#DejaVuSans-55\"/>\n       <use x=\"159.033203\" xlink:href=\"#DejaVuSans-53\"/>\n      </g>\n     </g>\n    </g>\n    <g id=\"xtick_9\">\n     <g id=\"line2d_17\">\n      <path clip-path=\"url(#pd8a455e46e)\" d=\"M 456.212216 282.799219 \nL 456.212216 10.999219 \n\" style=\"fill:none;stroke:#b0b0b0;stroke-linecap:square;stroke-width:0.8;\"/>\n     </g>\n     <g id=\"line2d_18\">\n      <g>\n       <use style=\"stroke:#000000;stroke-width:0.8;\" x=\"456.212216\" xlink:href=\"#m8f3f2262e3\" y=\"282.799219\"/>\n      </g>\n     </g>\n     <g id=\"text_9\">\n      <!-- 2.00 -->\n      <g transform=\"translate(445.079403 297.397656)scale(0.1 -0.1)\">\n       <use xlink:href=\"#DejaVuSans-50\"/>\n       <use x=\"63.623047\" xlink:href=\"#DejaVuSans-46\"/>\n       <use x=\"95.410156\" xlink:href=\"#DejaVuSans-48\"/>\n       <use x=\"159.033203\" xlink:href=\"#DejaVuSans-48\"/>\n      </g>\n     </g>\n    </g>\n   </g>\n   <g id=\"matplotlib.axis_2\">\n    <g id=\"ytick_1\">\n     <g id=\"line2d_19\">\n      <path clip-path=\"url(#pd8a455e46e)\" d=\"M 30.103125 282.799219 \nL 476.503125 282.799219 \n\" style=\"fill:none;stroke:#b0b0b0;stroke-linecap:square;stroke-width:0.8;\"/>\n     </g>\n     <g id=\"line2d_20\">\n      <defs>\n       <path d=\"M 0 0 \nL -3.5 0 \n\" id=\"m52a9022261\" style=\"stroke:#000000;stroke-width:0.8;\"/>\n      </defs>\n      <g>\n       <use style=\"stroke:#000000;stroke-width:0.8;\" x=\"30.103125\" xlink:href=\"#m52a9022261\" y=\"282.799219\"/>\n      </g>\n     </g>\n     <g id=\"text_10\">\n      <!-- 0.0 -->\n      <g transform=\"translate(7.2 286.598437)scale(0.1 -0.1)\">\n       <use xlink:href=\"#DejaVuSans-48\"/>\n       <use x=\"63.623047\" xlink:href=\"#DejaVuSans-46\"/>\n       <use x=\"95.410156\" xlink:href=\"#DejaVuSans-48\"/>\n      </g>\n     </g>\n    </g>\n    <g id=\"ytick_2\">\n     <g id=\"line2d_21\">\n      <path clip-path=\"url(#pd8a455e46e)\" d=\"M 30.103125 228.439219 \nL 476.503125 228.439219 \n\" style=\"fill:none;stroke:#b0b0b0;stroke-linecap:square;stroke-width:0.8;\"/>\n     </g>\n     <g id=\"line2d_22\">\n      <g>\n       <use style=\"stroke:#000000;stroke-width:0.8;\" x=\"30.103125\" xlink:href=\"#m52a9022261\" y=\"228.439219\"/>\n      </g>\n     </g>\n     <g id=\"text_11\">\n      <!-- 0.2 -->\n      <g transform=\"translate(7.2 232.238437)scale(0.1 -0.1)\">\n       <use xlink:href=\"#DejaVuSans-48\"/>\n       <use x=\"63.623047\" xlink:href=\"#DejaVuSans-46\"/>\n       <use x=\"95.410156\" xlink:href=\"#DejaVuSans-50\"/>\n      </g>\n     </g>\n    </g>\n    <g id=\"ytick_3\">\n     <g id=\"line2d_23\">\n      <path clip-path=\"url(#pd8a455e46e)\" d=\"M 30.103125 174.079219 \nL 476.503125 174.079219 \n\" style=\"fill:none;stroke:#b0b0b0;stroke-linecap:square;stroke-width:0.8;\"/>\n     </g>\n     <g id=\"line2d_24\">\n      <g>\n       <use style=\"stroke:#000000;stroke-width:0.8;\" x=\"30.103125\" xlink:href=\"#m52a9022261\" y=\"174.079219\"/>\n      </g>\n     </g>\n     <g id=\"text_12\">\n      <!-- 0.4 -->\n      <defs>\n       <path d=\"M 37.796875 64.3125 \nL 12.890625 25.390625 \nL 37.796875 25.390625 \nz\nM 35.203125 72.90625 \nL 47.609375 72.90625 \nL 47.609375 25.390625 \nL 58.015625 25.390625 \nL 58.015625 17.1875 \nL 47.609375 17.1875 \nL 47.609375 0 \nL 37.796875 0 \nL 37.796875 17.1875 \nL 4.890625 17.1875 \nL 4.890625 26.703125 \nz\n\" id=\"DejaVuSans-52\"/>\n      </defs>\n      <g transform=\"translate(7.2 177.878437)scale(0.1 -0.1)\">\n       <use xlink:href=\"#DejaVuSans-48\"/>\n       <use x=\"63.623047\" xlink:href=\"#DejaVuSans-46\"/>\n       <use x=\"95.410156\" xlink:href=\"#DejaVuSans-52\"/>\n      </g>\n     </g>\n    </g>\n    <g id=\"ytick_4\">\n     <g id=\"line2d_25\">\n      <path clip-path=\"url(#pd8a455e46e)\" d=\"M 30.103125 119.719219 \nL 476.503125 119.719219 \n\" style=\"fill:none;stroke:#b0b0b0;stroke-linecap:square;stroke-width:0.8;\"/>\n     </g>\n     <g id=\"line2d_26\">\n      <g>\n       <use style=\"stroke:#000000;stroke-width:0.8;\" x=\"30.103125\" xlink:href=\"#m52a9022261\" y=\"119.719219\"/>\n      </g>\n     </g>\n     <g id=\"text_13\">\n      <!-- 0.6 -->\n      <defs>\n       <path d=\"M 33.015625 40.375 \nQ 26.375 40.375 22.484375 35.828125 \nQ 18.609375 31.296875 18.609375 23.390625 \nQ 18.609375 15.53125 22.484375 10.953125 \nQ 26.375 6.390625 33.015625 6.390625 \nQ 39.65625 6.390625 43.53125 10.953125 \nQ 47.40625 15.53125 47.40625 23.390625 \nQ 47.40625 31.296875 43.53125 35.828125 \nQ 39.65625 40.375 33.015625 40.375 \nz\nM 52.59375 71.296875 \nL 52.59375 62.3125 \nQ 48.875 64.0625 45.09375 64.984375 \nQ 41.3125 65.921875 37.59375 65.921875 \nQ 27.828125 65.921875 22.671875 59.328125 \nQ 17.53125 52.734375 16.796875 39.40625 \nQ 19.671875 43.65625 24.015625 45.921875 \nQ 28.375 48.1875 33.59375 48.1875 \nQ 44.578125 48.1875 50.953125 41.515625 \nQ 57.328125 34.859375 57.328125 23.390625 \nQ 57.328125 12.15625 50.6875 5.359375 \nQ 44.046875 -1.421875 33.015625 -1.421875 \nQ 20.359375 -1.421875 13.671875 8.265625 \nQ 6.984375 17.96875 6.984375 36.375 \nQ 6.984375 53.65625 15.1875 63.9375 \nQ 23.390625 74.21875 37.203125 74.21875 \nQ 40.921875 74.21875 44.703125 73.484375 \nQ 48.484375 72.75 52.59375 71.296875 \nz\n\" id=\"DejaVuSans-54\"/>\n      </defs>\n      <g transform=\"translate(7.2 123.518437)scale(0.1 -0.1)\">\n       <use xlink:href=\"#DejaVuSans-48\"/>\n       <use x=\"63.623047\" xlink:href=\"#DejaVuSans-46\"/>\n       <use x=\"95.410156\" xlink:href=\"#DejaVuSans-54\"/>\n      </g>\n     </g>\n    </g>\n    <g id=\"ytick_5\">\n     <g id=\"line2d_27\">\n      <path clip-path=\"url(#pd8a455e46e)\" d=\"M 30.103125 65.359219 \nL 476.503125 65.359219 \n\" style=\"fill:none;stroke:#b0b0b0;stroke-linecap:square;stroke-width:0.8;\"/>\n     </g>\n     <g id=\"line2d_28\">\n      <g>\n       <use style=\"stroke:#000000;stroke-width:0.8;\" x=\"30.103125\" xlink:href=\"#m52a9022261\" y=\"65.359219\"/>\n      </g>\n     </g>\n     <g id=\"text_14\">\n      <!-- 0.8 -->\n      <defs>\n       <path d=\"M 31.78125 34.625 \nQ 24.75 34.625 20.71875 30.859375 \nQ 16.703125 27.09375 16.703125 20.515625 \nQ 16.703125 13.921875 20.71875 10.15625 \nQ 24.75 6.390625 31.78125 6.390625 \nQ 38.8125 6.390625 42.859375 10.171875 \nQ 46.921875 13.96875 46.921875 20.515625 \nQ 46.921875 27.09375 42.890625 30.859375 \nQ 38.875 34.625 31.78125 34.625 \nz\nM 21.921875 38.8125 \nQ 15.578125 40.375 12.03125 44.71875 \nQ 8.5 49.078125 8.5 55.328125 \nQ 8.5 64.0625 14.71875 69.140625 \nQ 20.953125 74.21875 31.78125 74.21875 \nQ 42.671875 74.21875 48.875 69.140625 \nQ 55.078125 64.0625 55.078125 55.328125 \nQ 55.078125 49.078125 51.53125 44.71875 \nQ 48 40.375 41.703125 38.8125 \nQ 48.828125 37.15625 52.796875 32.3125 \nQ 56.78125 27.484375 56.78125 20.515625 \nQ 56.78125 9.90625 50.3125 4.234375 \nQ 43.84375 -1.421875 31.78125 -1.421875 \nQ 19.734375 -1.421875 13.25 4.234375 \nQ 6.78125 9.90625 6.78125 20.515625 \nQ 6.78125 27.484375 10.78125 32.3125 \nQ 14.796875 37.15625 21.921875 38.8125 \nz\nM 18.3125 54.390625 \nQ 18.3125 48.734375 21.84375 45.5625 \nQ 25.390625 42.390625 31.78125 42.390625 \nQ 38.140625 42.390625 41.71875 45.5625 \nQ 45.3125 48.734375 45.3125 54.390625 \nQ 45.3125 60.0625 41.71875 63.234375 \nQ 38.140625 66.40625 31.78125 66.40625 \nQ 25.390625 66.40625 21.84375 63.234375 \nQ 18.3125 60.0625 18.3125 54.390625 \nz\n\" id=\"DejaVuSans-56\"/>\n      </defs>\n      <g transform=\"translate(7.2 69.158437)scale(0.1 -0.1)\">\n       <use xlink:href=\"#DejaVuSans-48\"/>\n       <use x=\"63.623047\" xlink:href=\"#DejaVuSans-46\"/>\n       <use x=\"95.410156\" xlink:href=\"#DejaVuSans-56\"/>\n      </g>\n     </g>\n    </g>\n    <g id=\"ytick_6\">\n     <g id=\"line2d_29\">\n      <path clip-path=\"url(#pd8a455e46e)\" d=\"M 30.103125 10.999219 \nL 476.503125 10.999219 \n\" style=\"fill:none;stroke:#b0b0b0;stroke-linecap:square;stroke-width:0.8;\"/>\n     </g>\n     <g id=\"line2d_30\">\n      <g>\n       <use style=\"stroke:#000000;stroke-width:0.8;\" x=\"30.103125\" xlink:href=\"#m52a9022261\" y=\"10.999219\"/>\n      </g>\n     </g>\n     <g id=\"text_15\">\n      <!-- 1.0 -->\n      <g transform=\"translate(7.2 14.798437)scale(0.1 -0.1)\">\n       <use xlink:href=\"#DejaVuSans-49\"/>\n       <use x=\"63.623047\" xlink:href=\"#DejaVuSans-46\"/>\n       <use x=\"95.410156\" xlink:href=\"#DejaVuSans-48\"/>\n      </g>\n     </g>\n    </g>\n   </g>\n   <g id=\"line2d_31\">\n    <path clip-path=\"url(#pd8a455e46e)\" d=\"M 50.394034 4.655216 \nL 253.303125 4.669181 \nL 456.212216 4.664094 \n\" style=\"fill:none;stroke:#1f77b4;stroke-linecap:square;stroke-width:1.5;\"/>\n   </g>\n   <g id=\"line2d_32\">\n    <path clip-path=\"url(#pd8a455e46e)\" d=\"M 50.394034 140.877979 \nL 253.303125 140.877979 \nL 456.212216 140.877979 \n\" style=\"fill:none;stroke:#ff7f0e;stroke-linecap:square;stroke-width:1.5;\"/>\n   </g>\n   <g id=\"patch_3\">\n    <path d=\"M 30.103125 282.799219 \nL 30.103125 10.999219 \n\" style=\"fill:none;stroke:#000000;stroke-linecap:square;stroke-linejoin:miter;stroke-width:0.8;\"/>\n   </g>\n   <g id=\"patch_4\">\n    <path d=\"M 476.503125 282.799219 \nL 476.503125 10.999219 \n\" style=\"fill:none;stroke:#000000;stroke-linecap:square;stroke-linejoin:miter;stroke-width:0.8;\"/>\n   </g>\n   <g id=\"patch_5\">\n    <path d=\"M 30.103125 282.799219 \nL 476.503125 282.799219 \n\" style=\"fill:none;stroke:#000000;stroke-linecap:square;stroke-linejoin:miter;stroke-width:0.8;\"/>\n   </g>\n   <g id=\"patch_6\">\n    <path d=\"M 30.103125 10.999219 \nL 476.503125 10.999219 \n\" style=\"fill:none;stroke:#000000;stroke-linecap:square;stroke-linejoin:miter;stroke-width:0.8;\"/>\n   </g>\n   <g id=\"legend_1\">\n    <g id=\"patch_7\">\n     <path d=\"M 392.384375 48.355469 \nL 469.503125 48.355469 \nQ 471.503125 48.355469 471.503125 46.355469 \nL 471.503125 17.999219 \nQ 471.503125 15.999219 469.503125 15.999219 \nL 392.384375 15.999219 \nQ 390.384375 15.999219 390.384375 17.999219 \nL 390.384375 46.355469 \nQ 390.384375 48.355469 392.384375 48.355469 \nz\n\" style=\"fill:#ffffff;opacity:0.8;stroke:#cccccc;stroke-linejoin:miter;\"/>\n    </g>\n    <g id=\"line2d_33\">\n     <path d=\"M 394.384375 24.097656 \nL 414.384375 24.097656 \n\" style=\"fill:none;stroke:#1f77b4;stroke-linecap:square;stroke-width:1.5;\"/>\n    </g>\n    <g id=\"line2d_34\"/>\n    <g id=\"text_16\">\n     <!-- loss -->\n     <defs>\n      <path d=\"M 9.421875 75.984375 \nL 18.40625 75.984375 \nL 18.40625 0 \nL 9.421875 0 \nz\n\" id=\"DejaVuSans-108\"/>\n      <path d=\"M 30.609375 48.390625 \nQ 23.390625 48.390625 19.1875 42.75 \nQ 14.984375 37.109375 14.984375 27.296875 \nQ 14.984375 17.484375 19.15625 11.84375 \nQ 23.34375 6.203125 30.609375 6.203125 \nQ 37.796875 6.203125 41.984375 11.859375 \nQ 46.1875 17.53125 46.1875 27.296875 \nQ 46.1875 37.015625 41.984375 42.703125 \nQ 37.796875 48.390625 30.609375 48.390625 \nz\nM 30.609375 56 \nQ 42.328125 56 49.015625 48.375 \nQ 55.71875 40.765625 55.71875 27.296875 \nQ 55.71875 13.875 49.015625 6.21875 \nQ 42.328125 -1.421875 30.609375 -1.421875 \nQ 18.84375 -1.421875 12.171875 6.21875 \nQ 5.515625 13.875 5.515625 27.296875 \nQ 5.515625 40.765625 12.171875 48.375 \nQ 18.84375 56 30.609375 56 \nz\n\" id=\"DejaVuSans-111\"/>\n      <path d=\"M 44.28125 53.078125 \nL 44.28125 44.578125 \nQ 40.484375 46.53125 36.375 47.5 \nQ 32.28125 48.484375 27.875 48.484375 \nQ 21.1875 48.484375 17.84375 46.4375 \nQ 14.5 44.390625 14.5 40.28125 \nQ 14.5 37.15625 16.890625 35.375 \nQ 19.28125 33.59375 26.515625 31.984375 \nL 29.59375 31.296875 \nQ 39.15625 29.25 43.1875 25.515625 \nQ 47.21875 21.78125 47.21875 15.09375 \nQ 47.21875 7.46875 41.1875 3.015625 \nQ 35.15625 -1.421875 24.609375 -1.421875 \nQ 20.21875 -1.421875 15.453125 -0.5625 \nQ 10.6875 0.296875 5.421875 2 \nL 5.421875 11.28125 \nQ 10.40625 8.6875 15.234375 7.390625 \nQ 20.0625 6.109375 24.8125 6.109375 \nQ 31.15625 6.109375 34.5625 8.28125 \nQ 37.984375 10.453125 37.984375 14.40625 \nQ 37.984375 18.0625 35.515625 20.015625 \nQ 33.0625 21.96875 24.703125 23.78125 \nL 21.578125 24.515625 \nQ 13.234375 26.265625 9.515625 29.90625 \nQ 5.8125 33.546875 5.8125 39.890625 \nQ 5.8125 47.609375 11.28125 51.796875 \nQ 16.75 56 26.8125 56 \nQ 31.78125 56 36.171875 55.265625 \nQ 40.578125 54.546875 44.28125 53.078125 \nz\n\" id=\"DejaVuSans-115\"/>\n     </defs>\n     <g transform=\"translate(422.384375 27.597656)scale(0.1 -0.1)\">\n      <use xlink:href=\"#DejaVuSans-108\"/>\n      <use x=\"27.783203\" xlink:href=\"#DejaVuSans-111\"/>\n      <use x=\"88.964844\" xlink:href=\"#DejaVuSans-115\"/>\n      <use x=\"141.064453\" xlink:href=\"#DejaVuSans-115\"/>\n     </g>\n    </g>\n    <g id=\"line2d_35\">\n     <path d=\"M 394.384375 38.775781 \nL 414.384375 38.775781 \n\" style=\"fill:none;stroke:#ff7f0e;stroke-linecap:square;stroke-width:1.5;\"/>\n    </g>\n    <g id=\"line2d_36\"/>\n    <g id=\"text_17\">\n     <!-- accuracy -->\n     <defs>\n      <path d=\"M 34.28125 27.484375 \nQ 23.390625 27.484375 19.1875 25 \nQ 14.984375 22.515625 14.984375 16.5 \nQ 14.984375 11.71875 18.140625 8.90625 \nQ 21.296875 6.109375 26.703125 6.109375 \nQ 34.1875 6.109375 38.703125 11.40625 \nQ 43.21875 16.703125 43.21875 25.484375 \nL 43.21875 27.484375 \nz\nM 52.203125 31.203125 \nL 52.203125 0 \nL 43.21875 0 \nL 43.21875 8.296875 \nQ 40.140625 3.328125 35.546875 0.953125 \nQ 30.953125 -1.421875 24.3125 -1.421875 \nQ 15.921875 -1.421875 10.953125 3.296875 \nQ 6 8.015625 6 15.921875 \nQ 6 25.140625 12.171875 29.828125 \nQ 18.359375 34.515625 30.609375 34.515625 \nL 43.21875 34.515625 \nL 43.21875 35.40625 \nQ 43.21875 41.609375 39.140625 45 \nQ 35.0625 48.390625 27.6875 48.390625 \nQ 23 48.390625 18.546875 47.265625 \nQ 14.109375 46.140625 10.015625 43.890625 \nL 10.015625 52.203125 \nQ 14.9375 54.109375 19.578125 55.046875 \nQ 24.21875 56 28.609375 56 \nQ 40.484375 56 46.34375 49.84375 \nQ 52.203125 43.703125 52.203125 31.203125 \nz\n\" id=\"DejaVuSans-97\"/>\n      <path d=\"M 48.78125 52.59375 \nL 48.78125 44.1875 \nQ 44.96875 46.296875 41.140625 47.34375 \nQ 37.3125 48.390625 33.40625 48.390625 \nQ 24.65625 48.390625 19.8125 42.84375 \nQ 14.984375 37.3125 14.984375 27.296875 \nQ 14.984375 17.28125 19.8125 11.734375 \nQ 24.65625 6.203125 33.40625 6.203125 \nQ 37.3125 6.203125 41.140625 7.25 \nQ 44.96875 8.296875 48.78125 10.40625 \nL 48.78125 2.09375 \nQ 45.015625 0.34375 40.984375 -0.53125 \nQ 36.96875 -1.421875 32.421875 -1.421875 \nQ 20.0625 -1.421875 12.78125 6.34375 \nQ 5.515625 14.109375 5.515625 27.296875 \nQ 5.515625 40.671875 12.859375 48.328125 \nQ 20.21875 56 33.015625 56 \nQ 37.15625 56 41.109375 55.140625 \nQ 45.0625 54.296875 48.78125 52.59375 \nz\n\" id=\"DejaVuSans-99\"/>\n      <path d=\"M 8.5 21.578125 \nL 8.5 54.6875 \nL 17.484375 54.6875 \nL 17.484375 21.921875 \nQ 17.484375 14.15625 20.5 10.265625 \nQ 23.53125 6.390625 29.59375 6.390625 \nQ 36.859375 6.390625 41.078125 11.03125 \nQ 45.3125 15.671875 45.3125 23.6875 \nL 45.3125 54.6875 \nL 54.296875 54.6875 \nL 54.296875 0 \nL 45.3125 0 \nL 45.3125 8.40625 \nQ 42.046875 3.421875 37.71875 1 \nQ 33.40625 -1.421875 27.6875 -1.421875 \nQ 18.265625 -1.421875 13.375 4.4375 \nQ 8.5 10.296875 8.5 21.578125 \nz\nM 31.109375 56 \nz\n\" id=\"DejaVuSans-117\"/>\n      <path d=\"M 41.109375 46.296875 \nQ 39.59375 47.171875 37.8125 47.578125 \nQ 36.03125 48 33.890625 48 \nQ 26.265625 48 22.1875 43.046875 \nQ 18.109375 38.09375 18.109375 28.8125 \nL 18.109375 0 \nL 9.078125 0 \nL 9.078125 54.6875 \nL 18.109375 54.6875 \nL 18.109375 46.1875 \nQ 20.953125 51.171875 25.484375 53.578125 \nQ 30.03125 56 36.53125 56 \nQ 37.453125 56 38.578125 55.875 \nQ 39.703125 55.765625 41.0625 55.515625 \nz\n\" id=\"DejaVuSans-114\"/>\n      <path d=\"M 32.171875 -5.078125 \nQ 28.375 -14.84375 24.75 -17.8125 \nQ 21.140625 -20.796875 15.09375 -20.796875 \nL 7.90625 -20.796875 \nL 7.90625 -13.28125 \nL 13.1875 -13.28125 \nQ 16.890625 -13.28125 18.9375 -11.515625 \nQ 21 -9.765625 23.484375 -3.21875 \nL 25.09375 0.875 \nL 2.984375 54.6875 \nL 12.5 54.6875 \nL 29.59375 11.921875 \nL 46.6875 54.6875 \nL 56.203125 54.6875 \nz\n\" id=\"DejaVuSans-121\"/>\n     </defs>\n     <g transform=\"translate(422.384375 42.275781)scale(0.1 -0.1)\">\n      <use xlink:href=\"#DejaVuSans-97\"/>\n      <use x=\"61.279297\" xlink:href=\"#DejaVuSans-99\"/>\n      <use x=\"116.259766\" xlink:href=\"#DejaVuSans-99\"/>\n      <use x=\"171.240234\" xlink:href=\"#DejaVuSans-117\"/>\n      <use x=\"234.619141\" xlink:href=\"#DejaVuSans-114\"/>\n      <use x=\"275.732422\" xlink:href=\"#DejaVuSans-97\"/>\n      <use x=\"337.011719\" xlink:href=\"#DejaVuSans-99\"/>\n      <use x=\"391.992188\" xlink:href=\"#DejaVuSans-121\"/>\n     </g>\n    </g>\n   </g>\n  </g>\n </g>\n <defs>\n  <clipPath id=\"pd8a455e46e\">\n   <rect height=\"271.8\" width=\"446.4\" x=\"30.103125\" y=\"10.999219\"/>\n  </clipPath>\n </defs>\n</svg>\n",
      "image/png": "[encoded data removed]"
     },
     "metadata": {
      "needs_background": "light"
     }
    }
   ],
   "source": [
    " \n",
    "pd.DataFrame(history.history).plot(figsize=(8, 5)) \n",
    "plt.grid(True) \n",
    "plt.gca().set_ylim(0, 1) # set the vertical range to [ 0 - 1 ]\n",
    "plt.show()\n"
   ]
  },
  {
   "cell_type": "code",
   "execution_count": 26,
   "metadata": {
    "tags": []
   },
   "outputs": [
    {
     "output_type": "stream",
     "name": "stdout",
     "text": "33/33 [==============================] - 0s 2ms/step - loss: 1.0056 - accuracy: 0.5458\n"
    }
   ],
   "source": [
    "test_loss, test_acc = model.evaluate(test_set_x,  test_set_y, verbose=1)\n"
   ]
  },
  {
   "cell_type": "code",
   "execution_count": null,
   "metadata": {},
   "outputs": [],
   "source": [
    "#https://pythonprogramming.net/loading-custom-data-deep-learning-python-tensorflow-keras/\n",
    "\n",
    "X = []\n",
    "y = []\n",
    "\n",
    "for features,label in image_data:\n",
    "    X.append(features)\n",
    "    y.append(label)\n",
    "\n",
    "#print(X[0].reshape(-1, IMG_SIZE, IMG_SIZE, 1))\n",
    "\n",
    "print(X[0])\n",
    "print(y[0])\n",
    "\n"
   ]
  },
  {
   "cell_type": "code",
   "execution_count": null,
   "metadata": {},
   "outputs": [],
   "source": [
    "#https://www.pluralsight.com/guides/importing-image-data-into-numpy-arrays\n",
    "#https://realpython.com/storing-images-in-python/\n",
    "\n",
    "import PIL\n",
    "print('Pillow Version:', PIL.__version__)\n",
    "\n",
    "# load and show an image with Pillow\n",
    "from PIL import Image\n"
   ]
  },
  {
   "cell_type": "code",
   "execution_count": null,
   "metadata": {},
   "outputs": [],
   "source": [
    "# Open the image form working directory\n",
    "image = Image.open('data/images/fig5.png')\n",
    "# summarize some details about the image\n",
    "print(image.format)\n",
    "print(image.size)\n",
    "print(image.mode)\n",
    "# show the image\n",
    "#load_image.show()\n",
    "\n"
   ]
  },
  {
   "cell_type": "code",
   "execution_count": null,
   "metadata": {},
   "outputs": [],
   "source": [
    "from numpy import asarray\n",
    "\n",
    "# convert image to numpy array\n",
    "data = asarray(image)\n",
    "print(type(data))\n",
    "# summarize shape\n",
    "print(data.shape)\n",
    "\n",
    "#image_without_alpha = image[:,:,:3]\n",
    "#print(data[:,:,:3])"
   ]
  },
  {
   "cell_type": "code",
   "execution_count": null,
   "metadata": {},
   "outputs": [],
   "source": [
    "#Image resize\n",
    "load_img_rz = np.array(Image.open('data/images/fig5.png').resize((200,200)))\n",
    "Image.fromarray(load_img_rz).save('data/images/r_kolala.png')\n",
    "print(\"After resizing:\",load_img_rz.shape)\n"
   ]
  },
  {
   "cell_type": "code",
   "execution_count": null,
   "metadata": {},
   "outputs": [],
   "source": [
    "#Crop\n",
    "im = np.array(Image.open('data/images/fig5.png'))\n",
    "\n",
    "print(\"Before trimming:\",im.shape)\n",
    "\n",
    "im_trim = im[100:250,10:260]\n",
    "print(\"After trimming:\",im_trim.shape)\n",
    "\n",
    "Image.fromarray(im_trim).save('data/images/trim_kolala.png')\n",
    "\n",
    "#print(im_trim)"
   ]
  },
  {
   "cell_type": "code",
   "execution_count": null,
   "metadata": {},
   "outputs": [],
   "source": [
    "#https://stackoverflow.com/questions/39382412/crop-center-portion-of-a-numpy-image\n",
    "def crop_center(img,cropx,cropy):\n",
    "    y,x,_ = img.shape\n",
    "    startx = x//2-(cropx//2)\n",
    "    starty = y//2-(cropy//2)    \n",
    "    return img[starty:starty+cropy,startx:startx+cropx]\n",
    "\n",
    "\n",
    "im = np.array(Image.open('data/images/fig5.png'))\n",
    "\n",
    "print(\"Before trimming:\",im.shape)\n",
    "\n",
    "\n",
    "\n",
    "im_trim = crop_center(im,4,6)\n",
    "print(\"After trimming:\",im_trim.shape)\n",
    "\n",
    "Image.fromarray(im_trim).save('data/images/trim_kolala.png')\n",
    "\n",
    "\n"
   ]
  },
  {
   "cell_type": "markdown",
   "metadata": {},
   "source": [
    "### Old Code"
   ]
  },
  {
   "cell_type": "code",
   "execution_count": null,
   "metadata": {},
   "outputs": [],
   "source": [
    "#Split train/test\n",
    "training_idx = np.random.randint(m, size= (m * 75)//100)\n",
    "test_idx = np.random.randint(m, size= (m * 25)//100)\n",
    "print(training_idx)\n",
    "print(test_idx)\n",
    "\n",
    "train_set_x, test_set_x = set_x[training_idx,:,:,:], set_x[test_idx,:,:,:]\n",
    "train_set_y, test_set_y = set_y[training_idx], set_y[test_idx]\n",
    "\n"
   ]
  },
  {
   "cell_type": "code",
   "execution_count": null,
   "metadata": {},
   "outputs": [],
   "source": [
    "# Store inside HDF5 file\n",
    "file = h5py.File(\"data/myData.h5\", \"w\")\n",
    "file.create_dataset('set_x', data=set_x)\n",
    "file.create_dataset('set_y', data=set_y)\n",
    "file.close()\n",
    "\n",
    "# Read from the file\n",
    "file = h5py.File(\"data/myData.h5\", \"r\")\n",
    "set_x = file[\"set_x\"][:]\n",
    "set_y = file[\"set_y\"][:]\n",
    "file.close()\n",
    "\n"
   ]
  },
  {
   "cell_type": "code",
   "execution_count": null,
   "metadata": {},
   "outputs": [],
   "source": [
    "# Earlier attempt\n",
    "# When result was a list of set_x and set_y\n",
    "# Uses list comprehension\n",
    "first = [x for (x,y) in result]\n",
    "set_y = np.concatenate(first,axis =0)\n",
    "\n",
    "second = [y for (x,y) in result]\n",
    "set_x = np.concatenate(second,axis =0)\n",
    "\n"
   ]
  },
  {
   "cell_type": "code",
   "execution_count": null,
   "metadata": {},
   "outputs": [],
   "source": [
    "# Earlier attempt when result was a list of set_x and set_y\n",
    "# The entire result list was converted to array\n",
    "# But the conversion was very slow (and got stuck)\n",
    "result_array = np.array(result)\n",
    "\n",
    "set_y = result_array[:,0,:]\n",
    "set_y = set_y.reshape(150,).astype('int')\n",
    "print(set_y.shape)\n",
    "\n",
    "set_x_temp = result_array[:,1,:]\n",
    "print(set_x_temp.shape)\n",
    "#set_x_temp[1,1].shape\n",
    "set_x = []\n",
    "for i in range(set_x_temp.shape[0]):\n",
    "    for j in range(set_x_temp.shape[1]):\n",
    "        set_x.append(set_x_temp[i,j])\n",
    "    \n",
    "set_x = np.array(set_x)\n",
    "\n",
    "set_x.shape\n",
    "\n",
    "\n"
   ]
  },
  {
   "cell_type": "code",
   "execution_count": null,
   "metadata": {},
   "outputs": [],
   "source": [
    "\n",
    "# DID NOT WORK\n",
    "#Try multithreading instead of multiprocessing\n",
    "\n",
    "#Gave this error :\n",
    "--> 393             self.figure.draw(self.renderer)\n",
    "    394             # A GUI class may be need to update a window using this draw, so\n",
    "    395             # don't forget to call the superclass.\n",
    "    \n",
    "\n",
    "start_time = time.time()\n",
    "#import threading as mp\n",
    "#import multiprocessing as mp\n",
    "#from multiprocessing.pool import ThreadPool \n",
    "from multiprocessing.dummy import Pool as ThreadPool\n",
    "\n",
    "\n",
    "def applyParallel(dfGrouped, func):\n",
    "    pool = ThreadPool(20)\n",
    "    ret_list = pool.map(func, [group for name, group in dfGrouped])\n",
    "    pool.Close()\n",
    "    pool.join()\n",
    "    return ret_list\n",
    "    \n",
    "data = df[df['Symbol'].isin(['A2M.AX','AGL.AX','ALL.AX'])]\n",
    "data_grouped = data.groupby('Symbol')\n",
    "result = applyParallel(data_grouped, inner_loop)\n",
    "print(\"--- %s seconds ---\" % (time.time() - start_time))\n"
   ]
  },
  {
   "cell_type": "code",
   "execution_count": null,
   "metadata": {},
   "outputs": [],
   "source": [
    "\n",
    "# First attempt to created the set_x array\n",
    "# Loops through each Symbol at a time\n",
    "\n",
    "start_time = time.time()\n",
    "#data = df\n",
    "data = df[df['Symbol'].isin(['A2M.AX','AGL.AX'])]\n",
    "\n",
    "set_x = [] #np.empty(shape=(NO_OF_IMAGES,IMG_SIZE,IMG_SIZE,4))\n",
    "set_y = []\n",
    "data_grouped = data.groupby('Symbol')\n",
    "\n",
    "flag_alternate = 0\n",
    "\n",
    "for name,group in data_grouped:    \n",
    "    print(name + '  ' + str(group['Symbol'].count()))\n",
    "\n",
    "    loop_range=  (group['Symbol'].count()) -  (DATE_WINDOW) - 10\n",
    "    print(loop_range)\n",
    "    # No of images each group can have will be Row Count minus Window\n",
    "    #for i in range(loop_range):\n",
    "    for i in range(5):    \n",
    "        #print(\"Iter:\" + str(i))    \n",
    "        #Save the Target value of the last row as this will be the predicted value\n",
    "        #target_arr.append(data[-1:]['Target'].item())\n",
    "        set_y.append(group[-1:]['Target'].item())\n",
    "        \n",
    "        #Remove the last row and plot\n",
    "        group = group[:-1]\n",
    "        \n",
    "        \n",
    "        #Read the saved image and convert it into numpy after resizing\n",
    "        if flag_alternate == 0:\n",
    "            save_candlestick(group[-DATE_WINDOW:],name)\n",
    "            img_asNumpy = np.array(Image.open('data/temp_image0.png',mode='r').resize((IMG_SIZE,IMG_SIZE)))\n",
    "            flag_alternate = 1\n",
    "        else:\n",
    "            save_candlestick(group[-DATE_WINDOW:],1)\n",
    "            img_asNumpy = np.array(Image.open('data/temp_image1.png',mode='r').resize((IMG_SIZE,IMG_SIZE)))\n",
    "            flag_alternate = 0\n",
    "        \n",
    "        #image_without_alpha \n",
    "        img_asNumpy = img_asNumpy[:,:,:3]\n",
    "        set_x.append(img_asNumpy)    \n",
    "    \n",
    "\n",
    "print(\"--- %s seconds ---\" % (time.time() - start_time))\n",
    "\n"
   ]
  },
  {
   "cell_type": "code",
   "execution_count": null,
   "metadata": {},
   "outputs": [],
   "source": [
    "\n",
    "# Instead of saving the image, just store directly into array\n",
    "    # In order to get the figure contents as RGB pixel values, the matplotlib.backend_bases.Renderer needs to first draw the contents of the canvas. You can do this by manually calling canvas.draw():\n",
    "    from matplotlib.backends.backend_agg import FigureCanvasAgg as FigureCanvas\n",
    "    from matplotlib.figure import Figure\n",
    "    fig = Figure()\n",
    "    canvas = FigureCanvas(fig)\n",
    "    canvas.draw()       # draw the canvas, cache the renderer\n",
    "    image = np.fromstring(canvas.tostring_rgb(), dtype='uint8')\n",
    "    image = image.reshape(fig.canvas.get_width_height()[::-1] + (3,))\n",
    "    \n",
    "    set_x.append(image)\n"
   ]
  },
  {
   "cell_type": "code",
   "execution_count": null,
   "metadata": {},
   "outputs": [],
   "source": [
    "#If the Date column was not indexed\n",
    "min_date = df['Date'][df['Date'].index.min()]\n",
    "max_date = df['Date'][df['Date'].index.max()]\n",
    "df[df['Date'] > (max_date-timedelta(days=DATE_WINDOW))]\n",
    "df.loc[(max_date-timedelta(days=DATE_WINDOW)):]\n",
    "df.query('date == \"2020-01-01\"')\n",
    "\n",
    "#Since there is date time index\n",
    "min_date = df.index.min()\n",
    "max_date = df.index.max()\n",
    "data = df[max_date-timedelta(days=DATE_WINDOW):max_date]\n"
   ]
  },
  {
   "cell_type": "code",
   "execution_count": null,
   "metadata": {},
   "outputs": [],
   "source": [
    "\n",
    "#DO NOT RUN\n",
    "# Reshape X and Y\n",
    "set_x = set_x.reshape(set_x.shape[0],-1).T\n",
    "set_y = set_y.reshape(set_y.shape[0],-1).T\n",
    "\n",
    "print(set_x.shape)\n",
    "print(set_y.shape)\n",
    "\n",
    "\n",
    "#Shuffle X\n",
    "m = set_x.shape[1]                  # number of training examples\n",
    "permutation = list(np.random.permutation(m))\n",
    "set_x = set_x[:, permutation]\n",
    "    \n",
    "print(m)\n",
    "#Split train/test\n",
    "training_idx = np.random.randint(m, size= (m * 80)//100)\n",
    "test_idx = np.random.randint(m, size= (m * 20)//100)\n",
    "print(training_idx)\n",
    "print(test_idx)\n",
    "\n",
    "train_set_x, test_set_x = set_x[:,training_idx], set_x[:,test_idx]\n",
    "train_set_y, test_set_y = set_y[:,training_idx], set_y[:,test_idx]\n",
    "\n",
    "print(train_set_x.shape)\n",
    "print(train_set_y.shape)\n",
    "print(test_set_x.shape)\n",
    "print(test_set_y.shape)\n"
   ]
  },
  {
   "cell_type": "code",
   "execution_count": null,
   "metadata": {},
   "outputs": [],
   "source": [
    "#%%capture \n",
    "## cell magic function `%%capture` blocks jupyter notebook output,\n",
    "## which is not needed here since the plot is saved to a file anyway:\n",
    "\n",
    "#plot_candlestick(df[max_date-timedelta(days=DATE_WINDOW):max_date])\n",
    "\n",
    "mc = mpf.make_marketcolors(up='g',down='r')\n",
    "s  = mpf.make_mpf_style(marketcolors=mc\n",
    "                        ,rc = {'xtick.major.bottom':False, 'ytick.major.left':False\n",
    "                               ,'xtick.major.size':0,'ytick.major.size':0\n",
    "                               ,'axes.labelsize' : 0\n",
    "                               ,'savefig.jpeg_quality' : 5\n",
    "                               ,'savefig.bbox':'tight'\n",
    "                               ,'patch.linewidth' : 0 #candle border\n",
    "                               ,'lines.linewidth' : 1.5 #wick width\n",
    "                               ,'axes.spines.left' :False #plot border\n",
    "                               ,'axes.spines.top' :False\n",
    "                               ,'axes.spines.bottom' :False\n",
    "                               ,'axes.spines.right' :False\n",
    "                               \n",
    "                              }\n",
    "                       )\n",
    "\n",
    "# First we set the kwargs that we will use for all of these examples:\n",
    "kwargs = dict(type='candle',volume=False,figratio=(5,5),figscale=1\n",
    "              ,savefig='data/images/fig'+ str(1) +'.png')\n",
    "mpf.plot(df[max_date-timedelta(days=DATE_WINDOW):max_date],**kwargs,style = s)\n",
    "    \n",
    "fig.canvas.draw()\n",
    "\n"
   ]
  },
  {
   "cell_type": "code",
   "execution_count": null,
   "metadata": {},
   "outputs": [],
   "source": [
    "#convert plot to numpy array\n",
    "\n",
    "mc = mpf.make_marketcolors(up='g',down='r')\n",
    "s  = mpf.make_mpf_style(marketcolors=mc\n",
    "                        ,rc = {'xtick.major.bottom':False, 'ytick.major.left':False\n",
    "                               ,'xtick.major.size':0,'ytick.major.size':0\n",
    "                               ,'axes.labelsize' : 0\n",
    "                               ,'savefig.jpeg_quality' : 5\n",
    "                               ,'savefig.bbox':'tight'\n",
    "                               ,'patch.linewidth' : 0 #candle border\n",
    "                               ,'lines.linewidth' : 1.5 #wick width\n",
    "                               ,'axes.spines.left' :False #plot border\n",
    "                               ,'axes.spines.top' :False\n",
    "                               ,'axes.spines.bottom' :False\n",
    "                               ,'axes.spines.right' :False\n",
    "                               \n",
    "                              }\n",
    "                       )\n",
    "\n",
    "# First we set the kwargs that we will use for all of these examples:\n",
    "kwargs = dict(type='candle',volume=False,figratio=(5,5),figscale=1)\n",
    "\n",
    "mpf.plot(df[max_date-timedelta(days=DATE_WINDOW):max_date],**kwargs,style = s)\n",
    "\n",
    "#In order to get the figure contents as RGB pixel values, the matplotlib.backend_bases.Renderer needs to first draw the contents of the canvas. You can do this by manually calling canvas.draw():\n",
    "from matplotlib.backends.backend_agg import FigureCanvasAgg as FigureCanvas\n",
    "from matplotlib.figure import Figure\n",
    "\n",
    "fig = Figure()\n",
    "canvas = FigureCanvas(fig)\n",
    "\n",
    "\n",
    "canvas.draw()       # draw the canvas, cache the renderer\n",
    "\n",
    "image = np.fromstring(canvas.tostring_rgb(), dtype='uint8')\n",
    "\n",
    "\n",
    "#data = np.fromstring(fig.tostring_rgb(), dtype=np.uint8, sep='')\n",
    "\n",
    "# If we haven't already shown or saved the plot, then we need to\n",
    "# draw the figure first...\n",
    "#fig.canvas.draw()\n",
    "\n",
    "# Now we can save it to a numpy array.\n",
    "#data = np.fromstring(fig.canvas.tostring_rgb(), dtype=np.uint8, sep='')\n",
    "#data = data.reshape(fig.canvas.get_width_height()[::-1] + (3,))\n",
    "\n",
    "image"
   ]
  },
  {
   "cell_type": "code",
   "execution_count": null,
   "metadata": {},
   "outputs": [],
   "source": [
    "#In order to get the figure contents as RGB pixel values, the matplotlib.backend_bases.Renderer needs to first draw the contents of the canvas. You can do this by manually calling canvas.draw():\n",
    "from matplotlib.backends.backend_agg import FigureCanvasAgg as FigureCanvas\n",
    "from matplotlib.figure import Figure\n",
    "\n",
    "fig = Figure()\n",
    "canvas = FigureCanvas(fig)\n",
    "ax = fig.gca()\n",
    "\n",
    "ax.text(0.0,0.0,\"Test\", fontsize=45)\n",
    "ax.axis('off')\n",
    "\n",
    "canvas.draw()       # draw the canvas, cache the renderer\n",
    "\n",
    "image = np.fromstring(canvas.tostring_rgb(), dtype='uint8')\n",
    "data = image.reshape(fig.canvas.get_width_height()[::-1] + (3,))\n",
    "\n"
   ]
  },
  {
   "cell_type": "code",
   "execution_count": null,
   "metadata": {},
   "outputs": [],
   "source": [
    "image\n",
    "data.shape"
   ]
  },
  {
   "cell_type": "code",
   "execution_count": null,
   "metadata": {},
   "outputs": [],
   "source": [
    "# Filtering the dataset using the date index\n",
    "# but if there are missing dates then the no of records retrieved are not uniform\n",
    "target = np.zeros(NO_OF_IMAGES)\n",
    "max_date = df.index.max()\n",
    "\n",
    "for i in range(NO_OF_IMAGES):\n",
    "    #breakpoint()\n",
    "    print(\"Iter:\" + str(i))\n",
    "    data=df[(max_date-timedelta(days=DATE_WINDOW)):max_date]\n",
    "    print(data)\n",
    "    \n",
    "    #save_candlestick(data,i)\n",
    "    \n",
    "    #print(str(data.index.min()) + ' - ' + str(data.index.max()))\n",
    "    print(max_date)\n",
    "    varClose = data.iloc[-1]['Close']\n",
    "    varPrevClose= data.Close.shift(1).iloc[-1]\n",
    "    \n",
    "    print(varClose)\n",
    "    print(varPrevClose)\n",
    "    print(100 * ((varClose - varPrevClose)/varPrevClose))\n",
    "    target[i] = fn_setTarget(100 * ((varClose / varPrevClose) - 1))\n",
    "    print(target[i])\n",
    "    max_date = data.index.max()-timedelta(days=1)\n",
    "    print(max_date)\n",
    "    \n",
    "\n",
    "\n",
    "    "
   ]
  },
  {
   "cell_type": "code",
   "execution_count": null,
   "metadata": {},
   "outputs": [],
   "source": [
    "#Create new column using the apply function\n",
    "\n",
    "def fn_setTarget(val):\n",
    "    if val > UP_THRESHOLD_PCT:\n",
    "        out = 1\n",
    "    elif val < -DOWN_THRESHOLD_PCT:\n",
    "        out = -1\n",
    "    else:\n",
    "        out = 0\n",
    "    return out\n",
    "\n",
    "data\n",
    "data['Close_lag'] = 100* (data['Close'] - data['Close'].shift(1))/data['Close'].shift(1)\n",
    "data['Target'] = data.Close_lag.apply(fn_setTarget)\n",
    "\n",
    "\n"
   ]
  },
  {
   "cell_type": "code",
   "execution_count": null,
   "metadata": {},
   "outputs": [],
   "source": [
    "%%script false \n",
    "\n",
    "# Plotly Saving to image is a pain\n",
    "import plotly.graph_objects as go\n",
    "import pandas as pd\n",
    "import plotly\n",
    "\n",
    "fig = go.Figure(data=[go.Candlestick(x=df['date']\n",
    "                                     ,open=df['open']\n",
    "                                     ,high=df['high']\n",
    "                                     ,low=df['low']\n",
    "                                     ,close=df['close'])])\n",
    "fig.update_layout(xaxis_rangeslider_visible=False)\n",
    "fig.show()\n",
    "#Error while saving\n",
    "#fig.write_image(\"data/images/fig1.jpeg\")"
   ]
  }
 ],
 "metadata": {
  "kernelspec": {
   "display_name": "Python 3.6.9 64-bit",
   "language": "python",
   "name": "python_defaultSpec_1594556866797"
  },
  "language_info": {
   "codemirror_mode": {
    "name": "ipython",
    "version": 3
   },
   "file_extension": ".py",
   "mimetype": "text/x-python",
   "name": "python",
   "nbconvert_exporter": "python",
   "pygments_lexer": "ipython3",
   "version": "3.6.9-final"
  }
 },
 "nbformat": 4,
 "nbformat_minor": 4
}